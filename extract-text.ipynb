{
 "cells": [
  {
   "cell_type": "code",
   "execution_count": 4,
   "metadata": {},
   "outputs": [],
   "source": [
    "import os\n",
    "import sqlite3\n",
    "import pandas as pd\n",
    "from tqdm.notebook import tqdm\n",
    "import xml.etree.ElementTree as ET"
   ]
  },
  {
   "cell_type": "code",
   "execution_count": 5,
   "metadata": {},
   "outputs": [],
   "source": [
    "def convert_xml_to_readable(xml_string):\n",
    "    root = ET.fromstring(xml_string.replace(\"&\", \"&amp;\").replace(\"&amp;amp;\", \"&amp;\"))\n",
    "\n",
    "    readable_text = \"\"\n",
    "\n",
    "    # Extract title\n",
    "    title_elem = root.find(\".//dc:title\", {\"dc\": \"http://purl.org/dc/elements/1.1/\"})\n",
    "    if title_elem is None:\n",
    "        title_elem = root.find(\".//official-title\")\n",
    "    if title_elem is not None and title_elem.text:\n",
    "        title = title_elem.text.strip()\n",
    "        readable_text += title + \"\\n\\n\"\n",
    "\n",
    "    # Extract form data\n",
    "    form = root.find(\"./form\")\n",
    "    if form is not None:\n",
    "        congress_elem = form.find(\"congress\")\n",
    "        congress = congress_elem.text.strip() if congress_elem is not None and congress_elem.text else \"\"\n",
    "\n",
    "        session_elem = form.find(\"session\")\n",
    "        session = session_elem.text.strip() if session_elem is not None and session_elem.text else \"\"\n",
    "\n",
    "        legis_num_elem = form.find(\"legis-num\")\n",
    "        legis_num = legis_num_elem.text.strip() if legis_num_elem is not None and legis_num_elem.text else \"\"\n",
    "\n",
    "        current_chamber_elem = form.find(\"current-chamber\")\n",
    "        current_chamber = current_chamber_elem.text.strip() if current_chamber_elem is not None and current_chamber_elem.text else \"\"\n",
    "\n",
    "        action = form.find(\"action\")\n",
    "        if action is not None:\n",
    "            action_date_elem = action.find(\"action-date\")\n",
    "            action_date = action_date_elem.get(\"date\") if action_date_elem is not None else \"\"\n",
    "\n",
    "            action_desc_elem = action.find(\"action-desc\")\n",
    "            action_desc = \" \".join(action_desc_elem.itertext()).strip() if action_desc_elem is not None else \"\"\n",
    "\n",
    "            readable_text += f\"{congress}\\n{session}\\n{legis_num}\\n\\n{current_chamber}\\n\\n{action_date}\\n\\n{action_desc}\\n\\n\"\n",
    "        else:\n",
    "            readable_text += f\"{congress}\\n{session}\\n{legis_num}\\n\\n{current_chamber}\\n\\n\"\n",
    "\n",
    "        legis_type_elem = form.find(\"legis-type\")\n",
    "        legis_type = legis_type_elem.text.strip() if legis_type_elem is not None and legis_type_elem.text else \"\"\n",
    "\n",
    "        official_title_elem = form.find(\"official-title\")\n",
    "        official_title = official_title_elem.text.strip() if official_title_elem is not None and official_title_elem.text else \"\"\n",
    "\n",
    "        readable_text += f\"{legis_type}\\n\\n{official_title}\\n\\n\"\n",
    "\n",
    "    # Extract preamble\n",
    "    preamble = root.find(\"./preamble\")\n",
    "    if preamble is not None:\n",
    "        preamble_text = \" \".join(preamble.itertext()).strip()\n",
    "        readable_text += \"Preamble:\\n\" + preamble_text + \"\\n\\n\"\n",
    "\n",
    "    # Extract resolution body\n",
    "    resolution_body = root.find(\"./resolution-body\")\n",
    "    if resolution_body is not None:\n",
    "        for section in resolution_body.findall(\"section\"):\n",
    "            section_text = \" \".join(section.itertext()).strip()\n",
    "            readable_text += section_text + \"\\n\\n\"\n",
    "    else:\n",
    "        # Extract legis-body\n",
    "        legis_body = root.find(\"./legis-body\")\n",
    "        if legis_body is not None:\n",
    "            for section in legis_body.findall(\"section\"):\n",
    "                section_text = \" \".join(section.itertext()).strip()\n",
    "                readable_text += section_text + \"\\n\\n\"\n",
    "\n",
    "    return readable_text.strip()"
   ]
  },
  {
   "cell_type": "code",
   "execution_count": 8,
   "metadata": {},
   "outputs": [
    {
     "data": {
      "application/vnd.jupyter.widget-view+json": {
       "model_id": "6fbef3dd82284653adafdbb33417b404",
       "version_major": 2,
       "version_minor": 0
      },
      "text/plain": [
       "Congress:   0%|          | 0/6 [00:00<?, ?it/s]"
      ]
     },
     "metadata": {},
     "output_type": "display_data"
    },
    {
     "data": {
      "application/vnd.jupyter.widget-view+json": {
       "model_id": "10533af804bb4e49bd539ee0b9f4be84",
       "version_major": 2,
       "version_minor": 0
      },
      "text/plain": [
       "Category:   0%|          | 0/2 [00:00<?, ?it/s]"
      ]
     },
     "metadata": {},
     "output_type": "display_data"
    },
    {
     "data": {
      "application/vnd.jupyter.widget-view+json": {
       "model_id": "e4b49557bbda475bbfa2c23372d6b3ab",
       "version_major": 2,
       "version_minor": 0
      },
      "text/plain": [
       "Bill Type:   0%|          | 0/8 [00:00<?, ?it/s]"
      ]
     },
     "metadata": {},
     "output_type": "display_data"
    },
    {
     "data": {
      "application/vnd.jupyter.widget-view+json": {
       "model_id": "17cbe250c9024b8983102a2eda4bac38",
       "version_major": 2,
       "version_minor": 0
      },
      "text/plain": [
       "Bills:   0%|          | 0/230 [00:00<?, ?it/s]"
      ]
     },
     "metadata": {},
     "output_type": "display_data"
    },
    {
     "data": {
      "application/vnd.jupyter.widget-view+json": {
       "model_id": "350c6510980942ecae08d3587914c848",
       "version_major": 2,
       "version_minor": 0
      },
      "text/plain": [
       "Bills:   0%|          | 0/278 [00:00<?, ?it/s]"
      ]
     },
     "metadata": {},
     "output_type": "display_data"
    },
    {
     "data": {
      "application/vnd.jupyter.widget-view+json": {
       "model_id": "6bf216ae87534c8e9375fe8e6f5db25f",
       "version_major": 2,
       "version_minor": 0
      },
      "text/plain": [
       "Bills:   0%|          | 0/8964 [00:00<?, ?it/s]"
      ]
     },
     "metadata": {},
     "output_type": "display_data"
    },
    {
     "data": {
      "application/vnd.jupyter.widget-view+json": {
       "model_id": "8d102f9cb1bc47df9f99d04c50746ab0",
       "version_major": 2,
       "version_minor": 0
      },
      "text/plain": [
       "Bills:   0%|          | 0/1028 [00:00<?, ?it/s]"
      ]
     },
     "metadata": {},
     "output_type": "display_data"
    },
    {
     "data": {
      "application/vnd.jupyter.widget-view+json": {
       "model_id": "cedebfa43ce74f6085ded9b8dd0849bb",
       "version_major": 2,
       "version_minor": 0
      },
      "text/plain": [
       "Bills:   0%|          | 0/4284 [00:00<?, ?it/s]"
      ]
     },
     "metadata": {},
     "output_type": "display_data"
    },
    {
     "data": {
      "application/vnd.jupyter.widget-view+json": {
       "model_id": "b1b20d2f99e446e5a3798d0433f972ff",
       "version_major": 2,
       "version_minor": 0
      },
      "text/plain": [
       "Bills:   0%|          | 0/126 [00:00<?, ?it/s]"
      ]
     },
     "metadata": {},
     "output_type": "display_data"
    },
    {
     "data": {
      "application/vnd.jupyter.widget-view+json": {
       "model_id": "c4d47134eb5741a0adc974d9443f350f",
       "version_major": 2,
       "version_minor": 0
      },
      "text/plain": [
       "Bills:   0%|          | 0/60 [00:00<?, ?it/s]"
      ]
     },
     "metadata": {},
     "output_type": "display_data"
    },
    {
     "data": {
      "application/vnd.jupyter.widget-view+json": {
       "model_id": "c913645710034fbf83e0614a2ecac8c0",
       "version_major": 2,
       "version_minor": 0
      },
      "text/plain": [
       "Bills:   0%|          | 0/786 [00:00<?, ?it/s]"
      ]
     },
     "metadata": {},
     "output_type": "display_data"
    },
    {
     "data": {
      "application/vnd.jupyter.widget-view+json": {
       "model_id": "f4f1db6fa2844a15bf16257fb2133a0d",
       "version_major": 2,
       "version_minor": 0
      },
      "text/plain": [
       "Bill Type:   0%|          | 0/8 [00:00<?, ?it/s]"
      ]
     },
     "metadata": {},
     "output_type": "display_data"
    },
    {
     "data": {
      "application/vnd.jupyter.widget-view+json": {
       "model_id": "12fbb26d98284f719b2938229f1d4255",
       "version_major": 2,
       "version_minor": 0
      },
      "text/plain": [
       "Bills:   0%|          | 0/236 [00:00<?, ?it/s]"
      ]
     },
     "metadata": {},
     "output_type": "display_data"
    },
    {
     "data": {
      "application/vnd.jupyter.widget-view+json": {
       "model_id": "9b4bba133bda44239f75105d7531ba0a",
       "version_major": 2,
       "version_minor": 0
      },
      "text/plain": [
       "Bills:   0%|          | 0/102 [00:00<?, ?it/s]"
      ]
     },
     "metadata": {},
     "output_type": "display_data"
    },
    {
     "data": {
      "application/vnd.jupyter.widget-view+json": {
       "model_id": "f096a4d086d04f5f83a0a5fdc0cc35d4",
       "version_major": 2,
       "version_minor": 0
      },
      "text/plain": [
       "Bills:   0%|          | 0/6702 [00:00<?, ?it/s]"
      ]
     },
     "metadata": {},
     "output_type": "display_data"
    },
    {
     "data": {
      "application/vnd.jupyter.widget-view+json": {
       "model_id": "51988b7104304e80bf5f13b1137ce7b9",
       "version_major": 2,
       "version_minor": 0
      },
      "text/plain": [
       "Bills:   0%|          | 0/836 [00:00<?, ?it/s]"
      ]
     },
     "metadata": {},
     "output_type": "display_data"
    },
    {
     "data": {
      "application/vnd.jupyter.widget-view+json": {
       "model_id": "8049472112cf44e989876d3036ddca0f",
       "version_major": 2,
       "version_minor": 0
      },
      "text/plain": [
       "Bills:   0%|          | 0/3014 [00:00<?, ?it/s]"
      ]
     },
     "metadata": {},
     "output_type": "display_data"
    },
    {
     "data": {
      "application/vnd.jupyter.widget-view+json": {
       "model_id": "9e10623642354277a736f8e43fbe25af",
       "version_major": 2,
       "version_minor": 0
      },
      "text/plain": [
       "Bills:   0%|          | 0/54 [00:00<?, ?it/s]"
      ]
     },
     "metadata": {},
     "output_type": "display_data"
    },
    {
     "data": {
      "application/vnd.jupyter.widget-view+json": {
       "model_id": "b66efecfe2ae438ebb35aa1d680c7bb8",
       "version_major": 2,
       "version_minor": 0
      },
      "text/plain": [
       "Bills:   0%|          | 0/72 [00:00<?, ?it/s]"
      ]
     },
     "metadata": {},
     "output_type": "display_data"
    },
    {
     "data": {
      "application/vnd.jupyter.widget-view+json": {
       "model_id": "dc5eeab5dc004393aa740181d18f873b",
       "version_major": 2,
       "version_minor": 0
      },
      "text/plain": [
       "Bills:   0%|          | 0/742 [00:00<?, ?it/s]"
      ]
     },
     "metadata": {},
     "output_type": "display_data"
    },
    {
     "data": {
      "application/vnd.jupyter.widget-view+json": {
       "model_id": "a909b7df88e64cb1aea84b97c7f0ba94",
       "version_major": 2,
       "version_minor": 0
      },
      "text/plain": [
       "Category:   0%|          | 0/2 [00:00<?, ?it/s]"
      ]
     },
     "metadata": {},
     "output_type": "display_data"
    },
    {
     "data": {
      "application/vnd.jupyter.widget-view+json": {
       "model_id": "0ceb57384409495f9b0dd0bac68282e5",
       "version_major": 2,
       "version_minor": 0
      },
      "text/plain": [
       "Bill Type:   0%|          | 0/8 [00:00<?, ?it/s]"
      ]
     },
     "metadata": {},
     "output_type": "display_data"
    },
    {
     "data": {
      "application/vnd.jupyter.widget-view+json": {
       "model_id": "bf61154da1cf40598b51a32d4bbb948d",
       "version_major": 2,
       "version_minor": 0
      },
      "text/plain": [
       "Bills:   0%|          | 0/342 [00:00<?, ?it/s]"
      ]
     },
     "metadata": {},
     "output_type": "display_data"
    },
    {
     "data": {
      "application/vnd.jupyter.widget-view+json": {
       "model_id": "4788e3ad945e46cf927793f1c5e75404",
       "version_major": 2,
       "version_minor": 0
      },
      "text/plain": [
       "Bills:   0%|          | 0/184 [00:00<?, ?it/s]"
      ]
     },
     "metadata": {},
     "output_type": "display_data"
    },
    {
     "data": {
      "application/vnd.jupyter.widget-view+json": {
       "model_id": "db667ed8af4a4fcab3b57f0e57a74acd",
       "version_major": 2,
       "version_minor": 0
      },
      "text/plain": [
       "Bills:   0%|          | 0/10750 [00:00<?, ?it/s]"
      ]
     },
     "metadata": {},
     "output_type": "display_data"
    },
    {
     "data": {
      "application/vnd.jupyter.widget-view+json": {
       "model_id": "95924b40e2764f48a1c84e48bf780122",
       "version_major": 2,
       "version_minor": 0
      },
      "text/plain": [
       "Bills:   0%|          | 0/1320 [00:00<?, ?it/s]"
      ]
     },
     "metadata": {},
     "output_type": "display_data"
    },
    {
     "data": {
      "application/vnd.jupyter.widget-view+json": {
       "model_id": "ad20738074a94fac8153124d6faf295f",
       "version_major": 2,
       "version_minor": 0
      },
      "text/plain": [
       "Bills:   0%|          | 0/5640 [00:00<?, ?it/s]"
      ]
     },
     "metadata": {},
     "output_type": "display_data"
    },
    {
     "data": {
      "application/vnd.jupyter.widget-view+json": {
       "model_id": "7df00d98b33b4159952ae16af0d6708a",
       "version_major": 2,
       "version_minor": 0
      },
      "text/plain": [
       "Bills:   0%|          | 0/98 [00:00<?, ?it/s]"
      ]
     },
     "metadata": {},
     "output_type": "display_data"
    },
    {
     "data": {
      "application/vnd.jupyter.widget-view+json": {
       "model_id": "11c1cb628d294fc5924998b210ba7c87",
       "version_major": 2,
       "version_minor": 0
      },
      "text/plain": [
       "Bills:   0%|          | 0/82 [00:00<?, ?it/s]"
      ]
     },
     "metadata": {},
     "output_type": "display_data"
    },
    {
     "data": {
      "application/vnd.jupyter.widget-view+json": {
       "model_id": "89f64471ee554e7fb129974396bba9d8",
       "version_major": 2,
       "version_minor": 0
      },
      "text/plain": [
       "Bills:   0%|          | 0/820 [00:00<?, ?it/s]"
      ]
     },
     "metadata": {},
     "output_type": "display_data"
    },
    {
     "data": {
      "application/vnd.jupyter.widget-view+json": {
       "model_id": "d2a83078b6e84fab835f4037ff0fa975",
       "version_major": 2,
       "version_minor": 0
      },
      "text/plain": [
       "Bill Type:   0%|          | 0/8 [00:00<?, ?it/s]"
      ]
     },
     "metadata": {},
     "output_type": "display_data"
    },
    {
     "data": {
      "application/vnd.jupyter.widget-view+json": {
       "model_id": "54f7eb6cac5046318ad618377ea5c329",
       "version_major": 2,
       "version_minor": 0
      },
      "text/plain": [
       "Bills:   0%|          | 0/300 [00:00<?, ?it/s]"
      ]
     },
     "metadata": {},
     "output_type": "display_data"
    },
    {
     "data": {
      "application/vnd.jupyter.widget-view+json": {
       "model_id": "fc7e27f7e68d4dae92d54dac44a21b11",
       "version_major": 2,
       "version_minor": 0
      },
      "text/plain": [
       "Bills:   0%|          | 0/70 [00:00<?, ?it/s]"
      ]
     },
     "metadata": {},
     "output_type": "display_data"
    },
    {
     "data": {
      "application/vnd.jupyter.widget-view+json": {
       "model_id": "c46da42ebc4e4339a53a8bff87f69777",
       "version_major": 2,
       "version_minor": 0
      },
      "text/plain": [
       "Bills:   0%|          | 0/7512 [00:00<?, ?it/s]"
      ]
     },
     "metadata": {},
     "output_type": "display_data"
    },
    {
     "data": {
      "application/vnd.jupyter.widget-view+json": {
       "model_id": "b386fed41c2c47ff98d4a5bbbb7c9355",
       "version_major": 2,
       "version_minor": 0
      },
      "text/plain": [
       "Bills:   0%|          | 0/940 [00:00<?, ?it/s]"
      ]
     },
     "metadata": {},
     "output_type": "display_data"
    },
    {
     "data": {
      "application/vnd.jupyter.widget-view+json": {
       "model_id": "9ba9d7210a3242f393b35ae7402cae2d",
       "version_major": 2,
       "version_minor": 0
      },
      "text/plain": [
       "Bills:   0%|          | 0/3184 [00:00<?, ?it/s]"
      ]
     },
     "metadata": {},
     "output_type": "display_data"
    },
    {
     "data": {
      "application/vnd.jupyter.widget-view+json": {
       "model_id": "1558bf3bf5c94a498ca9c3e6912afc7e",
       "version_major": 2,
       "version_minor": 0
      },
      "text/plain": [
       "Bills:   0%|          | 0/124 [00:00<?, ?it/s]"
      ]
     },
     "metadata": {},
     "output_type": "display_data"
    },
    {
     "data": {
      "application/vnd.jupyter.widget-view+json": {
       "model_id": "3862569c31b448bfada386ef90fb08e2",
       "version_major": 2,
       "version_minor": 0
      },
      "text/plain": [
       "Bills:   0%|          | 0/32 [00:00<?, ?it/s]"
      ]
     },
     "metadata": {},
     "output_type": "display_data"
    },
    {
     "data": {
      "application/vnd.jupyter.widget-view+json": {
       "model_id": "95675c99ebec430aa39eedc042246ade",
       "version_major": 2,
       "version_minor": 0
      },
      "text/plain": [
       "Bills:   0%|          | 0/762 [00:00<?, ?it/s]"
      ]
     },
     "metadata": {},
     "output_type": "display_data"
    },
    {
     "data": {
      "application/vnd.jupyter.widget-view+json": {
       "model_id": "e45ba8899127422fb18c32f5ef05f576",
       "version_major": 2,
       "version_minor": 0
      },
      "text/plain": [
       "Category:   0%|          | 0/2 [00:00<?, ?it/s]"
      ]
     },
     "metadata": {},
     "output_type": "display_data"
    },
    {
     "data": {
      "application/vnd.jupyter.widget-view+json": {
       "model_id": "b075fe62e8a24c6fb60d7898934aec8e",
       "version_major": 2,
       "version_minor": 0
      },
      "text/plain": [
       "Bill Type:   0%|          | 0/8 [00:00<?, ?it/s]"
      ]
     },
     "metadata": {},
     "output_type": "display_data"
    },
    {
     "data": {
      "application/vnd.jupyter.widget-view+json": {
       "model_id": "44634c5e32104b49b64422a85dd3f6c7",
       "version_major": 2,
       "version_minor": 0
      },
      "text/plain": [
       "Bills:   0%|          | 0/272 [00:00<?, ?it/s]"
      ]
     },
     "metadata": {},
     "output_type": "display_data"
    },
    {
     "data": {
      "application/vnd.jupyter.widget-view+json": {
       "model_id": "cf1041f8371347c697a3234403599c04",
       "version_major": 2,
       "version_minor": 0
      },
      "text/plain": [
       "Bills:   0%|          | 0/368 [00:00<?, ?it/s]"
      ]
     },
     "metadata": {},
     "output_type": "display_data"
    },
    {
     "data": {
      "application/vnd.jupyter.widget-view+json": {
       "model_id": "e1fed54bff7c4271b11b175a8b6dd5dc",
       "version_major": 2,
       "version_minor": 0
      },
      "text/plain": [
       "Bills:   0%|          | 0/12138 [00:00<?, ?it/s]"
      ]
     },
     "metadata": {},
     "output_type": "display_data"
    },
    {
     "data": {
      "application/vnd.jupyter.widget-view+json": {
       "model_id": "a08576d31fac4cf29515f957117cb7bc",
       "version_major": 2,
       "version_minor": 0
      },
      "text/plain": [
       "Bills:   0%|          | 0/1586 [00:00<?, ?it/s]"
      ]
     },
     "metadata": {},
     "output_type": "display_data"
    },
    {
     "data": {
      "application/vnd.jupyter.widget-view+json": {
       "model_id": "377e2e311e0c47e7ab869ffa5f99530f",
       "version_major": 2,
       "version_minor": 0
      },
      "text/plain": [
       "Bills:   0%|          | 0/5362 [00:00<?, ?it/s]"
      ]
     },
     "metadata": {},
     "output_type": "display_data"
    },
    {
     "data": {
      "application/vnd.jupyter.widget-view+json": {
       "model_id": "f5e6517b2ac54283a09067cc60cb7065",
       "version_major": 2,
       "version_minor": 0
      },
      "text/plain": [
       "Bills:   0%|          | 0/106 [00:00<?, ?it/s]"
      ]
     },
     "metadata": {},
     "output_type": "display_data"
    },
    {
     "data": {
      "application/vnd.jupyter.widget-view+json": {
       "model_id": "529ae1c94d494f68b0d8af4f68ac0ec7",
       "version_major": 2,
       "version_minor": 0
      },
      "text/plain": [
       "Bills:   0%|          | 0/142 [00:00<?, ?it/s]"
      ]
     },
     "metadata": {},
     "output_type": "display_data"
    },
    {
     "data": {
      "application/vnd.jupyter.widget-view+json": {
       "model_id": "37fd9159743241968f5b4d15c83c3d5e",
       "version_major": 2,
       "version_minor": 0
      },
      "text/plain": [
       "Bills:   0%|          | 0/892 [00:00<?, ?it/s]"
      ]
     },
     "metadata": {},
     "output_type": "display_data"
    },
    {
     "data": {
      "application/vnd.jupyter.widget-view+json": {
       "model_id": "cc066a00137b4437b547065103872718",
       "version_major": 2,
       "version_minor": 0
      },
      "text/plain": [
       "Bill Type:   0%|          | 0/8 [00:00<?, ?it/s]"
      ]
     },
     "metadata": {},
     "output_type": "display_data"
    },
    {
     "data": {
      "application/vnd.jupyter.widget-view+json": {
       "model_id": "4196d7d5e5994440bf4284e144a84941",
       "version_major": 2,
       "version_minor": 0
      },
      "text/plain": [
       "Bills:   0%|          | 0/194 [00:00<?, ?it/s]"
      ]
     },
     "metadata": {},
     "output_type": "display_data"
    },
    {
     "data": {
      "application/vnd.jupyter.widget-view+json": {
       "model_id": "b775827998e64457b051ca0cd798f078",
       "version_major": 2,
       "version_minor": 0
      },
      "text/plain": [
       "Bills:   0%|          | 0/52 [00:00<?, ?it/s]"
      ]
     },
     "metadata": {},
     "output_type": "display_data"
    },
    {
     "data": {
      "application/vnd.jupyter.widget-view+json": {
       "model_id": "73fdae528d4e43919b131dc8cc391ff1",
       "version_major": 2,
       "version_minor": 0
      },
      "text/plain": [
       "Bills:   0%|          | 0/9318 [00:00<?, ?it/s]"
      ]
     },
     "metadata": {},
     "output_type": "display_data"
    },
    {
     "data": {
      "application/vnd.jupyter.widget-view+json": {
       "model_id": "6444be40f5944f5da076868b0dcf668a",
       "version_major": 2,
       "version_minor": 0
      },
      "text/plain": [
       "Bills:   0%|          | 0/1234 [00:00<?, ?it/s]"
      ]
     },
     "metadata": {},
     "output_type": "display_data"
    },
    {
     "data": {
      "application/vnd.jupyter.widget-view+json": {
       "model_id": "fa81ecb9f70c454ba7d64f649af7abe7",
       "version_major": 2,
       "version_minor": 0
      },
      "text/plain": [
       "Bills:   0%|          | 0/4250 [00:00<?, ?it/s]"
      ]
     },
     "metadata": {},
     "output_type": "display_data"
    },
    {
     "data": {
      "application/vnd.jupyter.widget-view+json": {
       "model_id": "bfefc1919f7f42c2aaf6d515b38d50a9",
       "version_major": 2,
       "version_minor": 0
      },
      "text/plain": [
       "Bills:   0%|          | 0/106 [00:00<?, ?it/s]"
      ]
     },
     "metadata": {},
     "output_type": "display_data"
    },
    {
     "data": {
      "application/vnd.jupyter.widget-view+json": {
       "model_id": "05656708da7647b7bb9731a124e1e53c",
       "version_major": 2,
       "version_minor": 0
      },
      "text/plain": [
       "Bills:   0%|          | 0/70 [00:00<?, ?it/s]"
      ]
     },
     "metadata": {},
     "output_type": "display_data"
    },
    {
     "data": {
      "application/vnd.jupyter.widget-view+json": {
       "model_id": "3d893f3707ec447b9c735400f616c082",
       "version_major": 2,
       "version_minor": 0
      },
      "text/plain": [
       "Bills:   0%|          | 0/906 [00:00<?, ?it/s]"
      ]
     },
     "metadata": {},
     "output_type": "display_data"
    },
    {
     "data": {
      "application/vnd.jupyter.widget-view+json": {
       "model_id": "deff701a47fd44de8bb9c394e5a617cc",
       "version_major": 2,
       "version_minor": 0
      },
      "text/plain": [
       "Category:   0%|          | 0/2 [00:00<?, ?it/s]"
      ]
     },
     "metadata": {},
     "output_type": "display_data"
    },
    {
     "data": {
      "application/vnd.jupyter.widget-view+json": {
       "model_id": "24d97745212a4d01b6d382238f8be773",
       "version_major": 2,
       "version_minor": 0
      },
      "text/plain": [
       "Bill Type:   0%|          | 0/8 [00:00<?, ?it/s]"
      ]
     },
     "metadata": {},
     "output_type": "display_data"
    },
    {
     "data": {
      "application/vnd.jupyter.widget-view+json": {
       "model_id": "bb54241085754baab3ba163151984e37",
       "version_major": 2,
       "version_minor": 0
      },
      "text/plain": [
       "Bills:   0%|          | 0/236 [00:00<?, ?it/s]"
      ]
     },
     "metadata": {},
     "output_type": "display_data"
    },
    {
     "data": {
      "application/vnd.jupyter.widget-view+json": {
       "model_id": "37f65af00bd94369aea5b027d6002581",
       "version_major": 2,
       "version_minor": 0
      },
      "text/plain": [
       "Bills:   0%|          | 0/204 [00:00<?, ?it/s]"
      ]
     },
     "metadata": {},
     "output_type": "display_data"
    },
    {
     "data": {
      "application/vnd.jupyter.widget-view+json": {
       "model_id": "5d84e1dc136648108e23f57ad5ef5f56",
       "version_major": 2,
       "version_minor": 0
      },
      "text/plain": [
       "Bills:   0%|          | 0/13536 [00:00<?, ?it/s]"
      ]
     },
     "metadata": {},
     "output_type": "display_data"
    },
    {
     "data": {
      "application/vnd.jupyter.widget-view+json": {
       "model_id": "04b08050b3354fb48a56737aab059b23",
       "version_major": 2,
       "version_minor": 0
      },
      "text/plain": [
       "Bills:   0%|          | 0/1760 [00:00<?, ?it/s]"
      ]
     },
     "metadata": {},
     "output_type": "display_data"
    },
    {
     "data": {
      "application/vnd.jupyter.widget-view+json": {
       "model_id": "371c64e8c5324809a221942fd0775cbd",
       "version_major": 2,
       "version_minor": 0
      },
      "text/plain": [
       "Bills:   0%|          | 0/7200 [00:00<?, ?it/s]"
      ]
     },
     "metadata": {},
     "output_type": "display_data"
    },
    {
     "data": {
      "application/vnd.jupyter.widget-view+json": {
       "model_id": "85f574f5f44540959c12f1bd8818fce0",
       "version_major": 2,
       "version_minor": 0
      },
      "text/plain": [
       "Bills:   0%|          | 0/132 [00:00<?, ?it/s]"
      ]
     },
     "metadata": {},
     "output_type": "display_data"
    },
    {
     "data": {
      "application/vnd.jupyter.widget-view+json": {
       "model_id": "4a4d8d7d798543e6abaa0b26fcefa77e",
       "version_major": 2,
       "version_minor": 0
      },
      "text/plain": [
       "Bills:   0%|          | 0/190 [00:00<?, ?it/s]"
      ]
     },
     "metadata": {},
     "output_type": "display_data"
    },
    {
     "data": {
      "application/vnd.jupyter.widget-view+json": {
       "model_id": "ed49fa9091bc43ffbc84a973f2e5e237",
       "version_major": 2,
       "version_minor": 0
      },
      "text/plain": [
       "Bills:   0%|          | 0/1122 [00:00<?, ?it/s]"
      ]
     },
     "metadata": {},
     "output_type": "display_data"
    },
    {
     "data": {
      "application/vnd.jupyter.widget-view+json": {
       "model_id": "5a4a4d5907c04a90ba82789c3fcb7a83",
       "version_major": 2,
       "version_minor": 0
      },
      "text/plain": [
       "Bill Type:   0%|          | 0/8 [00:00<?, ?it/s]"
      ]
     },
     "metadata": {},
     "output_type": "display_data"
    },
    {
     "data": {
      "application/vnd.jupyter.widget-view+json": {
       "model_id": "754ee9666a1e4342becd23ca72f28a7c",
       "version_major": 2,
       "version_minor": 0
      },
      "text/plain": [
       "Bills:   0%|          | 0/144 [00:00<?, ?it/s]"
      ]
     },
     "metadata": {},
     "output_type": "display_data"
    },
    {
     "data": {
      "application/vnd.jupyter.widget-view+json": {
       "model_id": "9cf628fc5df34cb4a63cd4cad93c999b",
       "version_major": 2,
       "version_minor": 0
      },
      "text/plain": [
       "Bills:   0%|          | 0/100 [00:00<?, ?it/s]"
      ]
     },
     "metadata": {},
     "output_type": "display_data"
    },
    {
     "data": {
      "application/vnd.jupyter.widget-view+json": {
       "model_id": "1bb5ea80aec14fe6af18251165868467",
       "version_major": 2,
       "version_minor": 0
      },
      "text/plain": [
       "Bills:   0%|          | 0/9414 [00:00<?, ?it/s]"
      ]
     },
     "metadata": {},
     "output_type": "display_data"
    },
    {
     "data": {
      "application/vnd.jupyter.widget-view+json": {
       "model_id": "8d81fcdfd1c94966a7f0a7bd32a687f1",
       "version_major": 2,
       "version_minor": 0
      },
      "text/plain": [
       "Bills:   0%|          | 0/1134 [00:00<?, ?it/s]"
      ]
     },
     "metadata": {},
     "output_type": "display_data"
    },
    {
     "data": {
      "application/vnd.jupyter.widget-view+json": {
       "model_id": "d16728c3e6f94098befced2ffe8c1ff3",
       "version_major": 2,
       "version_minor": 0
      },
      "text/plain": [
       "Bills:   0%|          | 0/4754 [00:00<?, ?it/s]"
      ]
     },
     "metadata": {},
     "output_type": "display_data"
    },
    {
     "data": {
      "application/vnd.jupyter.widget-view+json": {
       "model_id": "c82d4719b41b41c38e51a98e4f1f26a2",
       "version_major": 2,
       "version_minor": 0
      },
      "text/plain": [
       "Bills:   0%|          | 0/66 [00:00<?, ?it/s]"
      ]
     },
     "metadata": {},
     "output_type": "display_data"
    },
    {
     "data": {
      "application/vnd.jupyter.widget-view+json": {
       "model_id": "078404290b514fd792f06bfde078aa08",
       "version_major": 2,
       "version_minor": 0
      },
      "text/plain": [
       "Bills:   0%|          | 0/70 [00:00<?, ?it/s]"
      ]
     },
     "metadata": {},
     "output_type": "display_data"
    },
    {
     "data": {
      "application/vnd.jupyter.widget-view+json": {
       "model_id": "07593ae1c7474a1997ba0b5530a3eebc",
       "version_major": 2,
       "version_minor": 0
      },
      "text/plain": [
       "Bills:   0%|          | 0/830 [00:00<?, ?it/s]"
      ]
     },
     "metadata": {},
     "output_type": "display_data"
    },
    {
     "data": {
      "application/vnd.jupyter.widget-view+json": {
       "model_id": "ad3afcc74b164ac4b7b5c48aaf7f765a",
       "version_major": 2,
       "version_minor": 0
      },
      "text/plain": [
       "Category:   0%|          | 0/2 [00:00<?, ?it/s]"
      ]
     },
     "metadata": {},
     "output_type": "display_data"
    },
    {
     "data": {
      "application/vnd.jupyter.widget-view+json": {
       "model_id": "01ccc81671f14a8db582e7c08ee205ae",
       "version_major": 2,
       "version_minor": 0
      },
      "text/plain": [
       "Bill Type:   0%|          | 0/8 [00:00<?, ?it/s]"
      ]
     },
     "metadata": {},
     "output_type": "display_data"
    },
    {
     "data": {
      "application/vnd.jupyter.widget-view+json": {
       "model_id": "7b7ee478d09c4bffa1650a479a10b7fa",
       "version_major": 2,
       "version_minor": 0
      },
      "text/plain": [
       "Bills:   0%|          | 0/168 [00:00<?, ?it/s]"
      ]
     },
     "metadata": {},
     "output_type": "display_data"
    },
    {
     "data": {
      "application/vnd.jupyter.widget-view+json": {
       "model_id": "1f60cad5a7e34d778297166412b7ed5c",
       "version_major": 2,
       "version_minor": 0
      },
      "text/plain": [
       "Bills:   0%|          | 0/146 [00:00<?, ?it/s]"
      ]
     },
     "metadata": {},
     "output_type": "display_data"
    },
    {
     "data": {
      "application/vnd.jupyter.widget-view+json": {
       "model_id": "145ffddb65dd4c03b05e8a16982a01d4",
       "version_major": 2,
       "version_minor": 0
      },
      "text/plain": [
       "Bills:   0%|          | 0/14454 [00:00<?, ?it/s]"
      ]
     },
     "metadata": {},
     "output_type": "display_data"
    },
    {
     "data": {
      "application/vnd.jupyter.widget-view+json": {
       "model_id": "c5c5e72015ab414c8edb9dbc0df1f502",
       "version_major": 2,
       "version_minor": 0
      },
      "text/plain": [
       "Bills:   0%|          | 0/1846 [00:00<?, ?it/s]"
      ]
     },
     "metadata": {},
     "output_type": "display_data"
    },
    {
     "data": {
      "application/vnd.jupyter.widget-view+json": {
       "model_id": "307ff2fc01c8411d96a71fe71c3d1100",
       "version_major": 2,
       "version_minor": 0
      },
      "text/plain": [
       "Bills:   0%|          | 0/7374 [00:00<?, ?it/s]"
      ]
     },
     "metadata": {},
     "output_type": "display_data"
    },
    {
     "data": {
      "application/vnd.jupyter.widget-view+json": {
       "model_id": "ba6f6b6023b54126b2221b50676195cf",
       "version_major": 2,
       "version_minor": 0
      },
      "text/plain": [
       "Bills:   0%|          | 0/78 [00:00<?, ?it/s]"
      ]
     },
     "metadata": {},
     "output_type": "display_data"
    },
    {
     "data": {
      "application/vnd.jupyter.widget-view+json": {
       "model_id": "e2e4c53c820b4c0e92cd15f8b79c5952",
       "version_major": 2,
       "version_minor": 0
      },
      "text/plain": [
       "Bills:   0%|          | 0/94 [00:00<?, ?it/s]"
      ]
     },
     "metadata": {},
     "output_type": "display_data"
    },
    {
     "data": {
      "application/vnd.jupyter.widget-view+json": {
       "model_id": "f3606f3afbc34659985e7710b947ffd1",
       "version_major": 2,
       "version_minor": 0
      },
      "text/plain": [
       "Bills:   0%|          | 0/1136 [00:00<?, ?it/s]"
      ]
     },
     "metadata": {},
     "output_type": "display_data"
    },
    {
     "data": {
      "application/vnd.jupyter.widget-view+json": {
       "model_id": "9223e14f8f314257a203ca3d518ac89a",
       "version_major": 2,
       "version_minor": 0
      },
      "text/plain": [
       "Bill Type:   0%|          | 0/8 [00:00<?, ?it/s]"
      ]
     },
     "metadata": {},
     "output_type": "display_data"
    },
    {
     "data": {
      "application/vnd.jupyter.widget-view+json": {
       "model_id": "282a8529c7fe466280757968da8de6a9",
       "version_major": 2,
       "version_minor": 0
      },
      "text/plain": [
       "Bills:   0%|          | 0/184 [00:00<?, ?it/s]"
      ]
     },
     "metadata": {},
     "output_type": "display_data"
    },
    {
     "data": {
      "application/vnd.jupyter.widget-view+json": {
       "model_id": "8cb52b77b79a4443a8d622d422863ed9",
       "version_major": 2,
       "version_minor": 0
      },
      "text/plain": [
       "Bills:   0%|          | 0/90 [00:00<?, ?it/s]"
      ]
     },
     "metadata": {},
     "output_type": "display_data"
    },
    {
     "data": {
      "application/vnd.jupyter.widget-view+json": {
       "model_id": "91b6f138c2be42e682c1266f7fb8b372",
       "version_major": 2,
       "version_minor": 0
      },
      "text/plain": [
       "Bills:   0%|          | 0/9364 [00:00<?, ?it/s]"
      ]
     },
     "metadata": {},
     "output_type": "display_data"
    },
    {
     "data": {
      "application/vnd.jupyter.widget-view+json": {
       "model_id": "dc6eede7833d46489273635070c5c844",
       "version_major": 2,
       "version_minor": 0
      },
      "text/plain": [
       "Bills:   0%|          | 0/1614 [00:00<?, ?it/s]"
      ]
     },
     "metadata": {},
     "output_type": "display_data"
    },
    {
     "data": {
      "application/vnd.jupyter.widget-view+json": {
       "model_id": "37d01f25a35847daad112b7e2333f91a",
       "version_major": 2,
       "version_minor": 0
      },
      "text/plain": [
       "Bills:   0%|          | 0/5058 [00:00<?, ?it/s]"
      ]
     },
     "metadata": {},
     "output_type": "display_data"
    },
    {
     "data": {
      "application/vnd.jupyter.widget-view+json": {
       "model_id": "4c06c3bf5288473c90a212e4672769fb",
       "version_major": 2,
       "version_minor": 0
      },
      "text/plain": [
       "Bills:   0%|          | 0/100 [00:00<?, ?it/s]"
      ]
     },
     "metadata": {},
     "output_type": "display_data"
    },
    {
     "data": {
      "application/vnd.jupyter.widget-view+json": {
       "model_id": "747d65711148480ab86f70728d552f85",
       "version_major": 2,
       "version_minor": 0
      },
      "text/plain": [
       "Bills:   0%|          | 0/104 [00:00<?, ?it/s]"
      ]
     },
     "metadata": {},
     "output_type": "display_data"
    },
    {
     "data": {
      "application/vnd.jupyter.widget-view+json": {
       "model_id": "fdab995642ec4b88ae636d52cbfecf25",
       "version_major": 2,
       "version_minor": 0
      },
      "text/plain": [
       "Bills:   0%|          | 0/994 [00:00<?, ?it/s]"
      ]
     },
     "metadata": {},
     "output_type": "display_data"
    },
    {
     "data": {
      "application/vnd.jupyter.widget-view+json": {
       "model_id": "0cb31504b7e84c6bba2b983d9d28e7ee",
       "version_major": 2,
       "version_minor": 0
      },
      "text/plain": [
       "Category:   0%|          | 0/2 [00:00<?, ?it/s]"
      ]
     },
     "metadata": {},
     "output_type": "display_data"
    },
    {
     "data": {
      "application/vnd.jupyter.widget-view+json": {
       "model_id": "f45a6f57cf0f4d429f2bbccdebe42a22",
       "version_major": 2,
       "version_minor": 0
      },
      "text/plain": [
       "Bill Type:   0%|          | 0/8 [00:00<?, ?it/s]"
      ]
     },
     "metadata": {},
     "output_type": "display_data"
    },
    {
     "data": {
      "application/vnd.jupyter.widget-view+json": {
       "model_id": "2c7c06473ee842fea32dae1f55c51026",
       "version_major": 2,
       "version_minor": 0
      },
      "text/plain": [
       "Bills:   0%|          | 0/216 [00:00<?, ?it/s]"
      ]
     },
     "metadata": {},
     "output_type": "display_data"
    },
    {
     "data": {
      "application/vnd.jupyter.widget-view+json": {
       "model_id": "161a170e56d2409388bf3394d8b035ca",
       "version_major": 2,
       "version_minor": 0
      },
      "text/plain": [
       "Bills:   0%|          | 0/302 [00:00<?, ?it/s]"
      ]
     },
     "metadata": {},
     "output_type": "display_data"
    },
    {
     "data": {
      "application/vnd.jupyter.widget-view+json": {
       "model_id": "d738a48b0c1b4975b6e5f198315aca34",
       "version_major": 2,
       "version_minor": 0
      },
      "text/plain": [
       "Bills:   0%|          | 0/14912 [00:00<?, ?it/s]"
      ]
     },
     "metadata": {},
     "output_type": "display_data"
    },
    {
     "data": {
      "application/vnd.jupyter.widget-view+json": {
       "model_id": "4d541aa3f7db459385a69c00b8d54928",
       "version_major": 2,
       "version_minor": 0
      },
      "text/plain": [
       "Bills:   0%|          | 0/2006 [00:00<?, ?it/s]"
      ]
     },
     "metadata": {},
     "output_type": "display_data"
    },
    {
     "data": {
      "application/vnd.jupyter.widget-view+json": {
       "model_id": "1b631b117848456383a73f9d1627399d",
       "version_major": 2,
       "version_minor": 0
      },
      "text/plain": [
       "Bills:   0%|          | 0/7678 [00:00<?, ?it/s]"
      ]
     },
     "metadata": {},
     "output_type": "display_data"
    },
    {
     "data": {
      "application/vnd.jupyter.widget-view+json": {
       "model_id": "479d3794d28540f2a7bfcaec6f88fecd",
       "version_major": 2,
       "version_minor": 0
      },
      "text/plain": [
       "Bills:   0%|          | 0/54 [00:00<?, ?it/s]"
      ]
     },
     "metadata": {},
     "output_type": "display_data"
    },
    {
     "data": {
      "application/vnd.jupyter.widget-view+json": {
       "model_id": "acede897b2604cc19bdab3117c9a8415",
       "version_major": 2,
       "version_minor": 0
      },
      "text/plain": [
       "Bills:   0%|          | 0/142 [00:00<?, ?it/s]"
      ]
     },
     "metadata": {},
     "output_type": "display_data"
    },
    {
     "data": {
      "application/vnd.jupyter.widget-view+json": {
       "model_id": "3ce0e82dcc2b4be7880c3645c8e821bf",
       "version_major": 2,
       "version_minor": 0
      },
      "text/plain": [
       "Bills:   0%|          | 0/1136 [00:00<?, ?it/s]"
      ]
     },
     "metadata": {},
     "output_type": "display_data"
    },
    {
     "data": {
      "application/vnd.jupyter.widget-view+json": {
       "model_id": "0c0677806f6348a3b7b17613d826c2ad",
       "version_major": 2,
       "version_minor": 0
      },
      "text/plain": [
       "Bill Type:   0%|          | 0/8 [00:00<?, ?it/s]"
      ]
     },
     "metadata": {},
     "output_type": "display_data"
    },
    {
     "data": {
      "application/vnd.jupyter.widget-view+json": {
       "model_id": "0d1c2888b85349609192ee896b9e08f5",
       "version_major": 2,
       "version_minor": 0
      },
      "text/plain": [
       "Bills:   0%|          | 0/42 [00:00<?, ?it/s]"
      ]
     },
     "metadata": {},
     "output_type": "display_data"
    },
    {
     "data": {
      "application/vnd.jupyter.widget-view+json": {
       "model_id": "8ef16946d3564bf5a5aeef4bb8b9370d",
       "version_major": 2,
       "version_minor": 0
      },
      "text/plain": [
       "Bills:   0%|          | 0/24 [00:00<?, ?it/s]"
      ]
     },
     "metadata": {},
     "output_type": "display_data"
    },
    {
     "data": {
      "application/vnd.jupyter.widget-view+json": {
       "model_id": "dec3fa04d8504814bcf9c27f27dcdc18",
       "version_major": 2,
       "version_minor": 0
      },
      "text/plain": [
       "Bills:   0%|          | 0/1608 [00:00<?, ?it/s]"
      ]
     },
     "metadata": {},
     "output_type": "display_data"
    },
    {
     "data": {
      "application/vnd.jupyter.widget-view+json": {
       "model_id": "16270328a3244fa6a5b4fd961dbf2b6f",
       "version_major": 2,
       "version_minor": 0
      },
      "text/plain": [
       "Bills:   0%|          | 0/268 [00:00<?, ?it/s]"
      ]
     },
     "metadata": {},
     "output_type": "display_data"
    },
    {
     "data": {
      "application/vnd.jupyter.widget-view+json": {
       "model_id": "03be99865f474c4081f7365f9628772a",
       "version_major": 2,
       "version_minor": 0
      },
      "text/plain": [
       "Bills:   0%|          | 0/700 [00:00<?, ?it/s]"
      ]
     },
     "metadata": {},
     "output_type": "display_data"
    },
    {
     "data": {
      "application/vnd.jupyter.widget-view+json": {
       "model_id": "a24939387d584f9dade6dd53dd8dee29",
       "version_major": 2,
       "version_minor": 0
      },
      "text/plain": [
       "Bills:   0%|          | 0/20 [00:00<?, ?it/s]"
      ]
     },
     "metadata": {},
     "output_type": "display_data"
    },
    {
     "data": {
      "application/vnd.jupyter.widget-view+json": {
       "model_id": "5cb4c194e0f14836936cc58cc25b8bf2",
       "version_major": 2,
       "version_minor": 0
      },
      "text/plain": [
       "Bills:   0%|          | 0/22 [00:00<?, ?it/s]"
      ]
     },
     "metadata": {},
     "output_type": "display_data"
    },
    {
     "data": {
      "application/vnd.jupyter.widget-view+json": {
       "model_id": "2b7ef5c95da7446091f9195e7c080e0b",
       "version_major": 2,
       "version_minor": 0
      },
      "text/plain": [
       "Bills:   0%|          | 0/138 [00:00<?, ?it/s]"
      ]
     },
     "metadata": {},
     "output_type": "display_data"
    }
   ],
   "source": [
    "def parse_bill_id(bill_id):\n",
    "    \"\"\"\n",
    "    Parse the bill_id to extract congress, type, and number.\n",
    "    \n",
    "    Args:\n",
    "    bill_id (str): A string representing the bill ID in the format BILLS-{congress}{type}{number}ih\n",
    "    \n",
    "    Returns:\n",
    "    tuple: Returns a tuple containing the congress, type, and number extracted from the bill_id.\n",
    "    \"\"\"\n",
    "    # Remove the 'BILLS-' prefix and 'ih' suffix\n",
    "    bill_id_stripped = bill_id.replace('BILLS-', '').rstrip('ih')\n",
    "    \n",
    "    # Find where digits end to separate congress number from type and number\n",
    "    digit_end = 0\n",
    "    for char in bill_id_stripped:\n",
    "        if char.isdigit():\n",
    "            digit_end += 1\n",
    "        else:\n",
    "            break\n",
    "    \n",
    "    # Extract congress number\n",
    "    congress = bill_id_stripped[:digit_end]\n",
    "    \n",
    "    # Remaining string contains type and number, need to separate them\n",
    "    remaining = bill_id_stripped[digit_end:]\n",
    "    \n",
    "    # Extract number from the end of the string\n",
    "    number = ''.join(filter(str.isdigit, remaining))\n",
    "    type_start = remaining.find(number)\n",
    "    \n",
    "    # Extract bill type\n",
    "    bill_type = remaining[:type_start]\n",
    "    \n",
    "    return congress, bill_type, number\n",
    "\n",
    "\n",
    "\n",
    "def load_bill_text(db_path, bill_text_dir):\n",
    "    conn = sqlite3.connect(db_path)\n",
    "    cursor = conn.cursor()\n",
    "\n",
    "\n",
    "    # Drop the existing bill_text table if it exists (REMOVE AFTER TESTING)\n",
    "    cursor.execute(\"DROP TABLE IF EXISTS bill_text\")\n",
    "    \n",
    "    # Create the updated bill_text table if it doesn't exist\n",
    "    cursor.execute(\"\"\"\n",
    "        CREATE TABLE IF NOT EXISTS bill_text (\n",
    "            bill_id TEXT PRIMARY KEY,\n",
    "            bill_congress INTEGER,\n",
    "            bill_type TEXT,\n",
    "            bill_number TEXT,\n",
    "            xml_content TEXT,\n",
    "            last_edited_date TEXT,\n",
    "            readable_text TEXT\n",
    "        )\n",
    "    \"\"\")\n",
    "\n",
    "    for congress_dir in tqdm(os.listdir(bill_text_dir), desc=\"Congress\"):\n",
    "        congress_path = os.path.join(bill_text_dir, congress_dir)\n",
    "        if not os.path.isdir(congress_path):\n",
    "            continue\n",
    "        \n",
    "        bill_text_data = []\n",
    "\n",
    "        for category_dir in tqdm(os.listdir(congress_path), desc=\"Category\", leave=False):\n",
    "            category_path = os.path.join(congress_path, category_dir)\n",
    "            if not os.path.isdir(category_path):\n",
    "                continue\n",
    "\n",
    "            for bill_type_dir in tqdm(os.listdir(category_path), desc=\"Bill Type\", leave=False):\n",
    "                bill_type_path = os.path.join(category_path, bill_type_dir)\n",
    "                if not os.path.isdir(bill_type_path):\n",
    "                    continue\n",
    "\n",
    "                for file_name in tqdm(os.listdir(bill_type_path), desc=\"Bills\", leave=False):\n",
    "                    if file_name.endswith('.xml'):\n",
    "                        bill_file_path = os.path.join(bill_type_path, file_name)\n",
    "                        with open(bill_file_path, 'r', encoding='utf-8') as file:\n",
    "                            xml_content = file.read()\n",
    "\n",
    "                        bill_id = file_name.replace('.xml', '')\n",
    "                        bill_congress, bill_type, bill_number = parse_bill_id(bill_id)\n",
    "                        last_edited_date = None\n",
    "\n",
    "                        last_edited_file = file_name.replace('.xml', '-lastmod.txt')\n",
    "                        last_edited_path = os.path.join(bill_type_path, last_edited_file)\n",
    "                        if os.path.exists(last_edited_path):\n",
    "                            with open(last_edited_path, 'r') as file:\n",
    "                                last_edited_date = file.read().strip()\n",
    "\n",
    "                        readable_text = convert_xml_to_readable(xml_content)\n",
    "\n",
    "                        bill_text_data.append({\n",
    "                            'bill_id': bill_id,\n",
    "                            'bill_congress': bill_congress,\n",
    "                            'bill_type': bill_type,\n",
    "                            'bill_number': bill_type.upper()+bill_number,\n",
    "                            'xml_content': xml_content,\n",
    "                            'last_edited_date': last_edited_date,\n",
    "                            'readable_text': readable_text\n",
    "                        })\n",
    "\n",
    "        # Load data into a DataFrame and then into the SQLite database\n",
    "        bill_text_df = pd.DataFrame(bill_text_data)\n",
    "        bill_text_df.to_sql('bill_text', conn, if_exists='append', index=False, method='multi', chunksize=100)\n",
    "\n",
    "    conn.close()\n",
    "\n",
    "# Usage example\n",
    "db_path = \"data/bill_data.db\"\n",
    "bill_text_dir = \"data/bill-text\"\n",
    "load_bill_text(db_path, bill_text_dir)\n"
   ]
  },
  {
   "cell_type": "code",
   "execution_count": 7,
   "metadata": {},
   "outputs": [
    {
     "name": "stdout",
     "output_type": "stream",
     "text": [
      "Bill Text Table Preview:\n",
      "Bill ID: BILLS-113hconres10ih\n",
      "Bill Congress: 113\n",
      "Bill Type: hconres\n",
      "Bill Number: hconres10\n",
      "Last Edited Date: 2023-01-08T17:43:15.369Z\n",
      "XML Content:\n",
      "<?xml version=\"1.0\"?>\n",
      "<?xml-stylesheet type=\"text/xsl\" href=\"billres.xsl\"?>\n",
      "<!DOCTYPE resolution PUBLIC \"-//US Congress//DTDs/res.dtd//EN\" \"res.dtd\">\n",
      "<resolution dms-id=\"HE1B634ADB5524EE89838587297AC47D8\" key=\"H\" public-private=\"public\" resolution-stage=\"Introduced-in-House\" resolution-type=\"house-concurrent\" star-print=\"no-star-print\">\n",
      "\t<metadata xmlns:dc=\"http://purl.org/dc/elements/1.1/\">\n",
      "<dublinCore>\n",
      "<dc:title>113 HCON 10 IH: Supporting the goals and ideals of No Name-Calling Week in bringing attention to name-calling of all kinds and providing schools with the tools and inspiration to launch an on-going dialogue about ways to eliminate name-calling and bullying in their communities.</dc:title>\n",
      "<dc:publisher>U.S. House of Representatives</dc:publisher>\n",
      "<dc:date>2013-01-25</dc:date>\n",
      "<dc:format>text/xml</dc:format>\n",
      "<dc:language>EN</dc:language>\n",
      "<dc:rights>Pursuant to Title 17 Section 105 of the United States Code, this file is not subject to copyright protection and is in the public domain.</dc:rights>\n",
      "</dublinCore>\n",
      "</metadata>\n",
      "<form>\n",
      "\t\t<distribution-code display=\"yes\">IV</distribution-code>\n",
      "\t\t<congress display=\"yes\">113th CONGRESS</congress>\n",
      "\t\t<session display=\"yes\">1st Session</session>\n",
      "\t\t<legis-num>H. CON. RES. 10</legis-num>\n",
      "\t\t<current-chamber>IN THE HOUSE OF REPRESENTATIVES</current-chamber>\n",
      "\t\t<action display=\"yes\">\n",
      "\t\t\t<action-date date=\"20130125\">January 25, 2013</action-date>\n",
      "\t\t\t<action-desc><sponsor name-id=\"R000435\">Ms. Ros-Lehtinen</sponsor> (for\n",
      "\t\t\t herself, <cosponsor name-id=\"K000188\">Mr. Kind</cosponsor>,\n",
      "\t\t\t <cosponsor name-id=\"S001175\">Ms. Speier</cosponsor>,\n",
      "\t\t\t <cosponsor name-id=\"S001165\">Mr. Sires</cosponsor>,\n",
      "\t\t\t <cosponsor name-id=\"M000933\">Mr. Moran</cosponsor>,\n",
      "\t\t\t <cosponsor name-id=\"N000147\">Ms. Norton</cosponsor>,\n",
      "\t\t\t <cosponsor name-id=\"S001177\">Mr. Sablan</cosponsor>,\n",
      "\t\t\t <cosponsor name-id=\"P000598\">Mr. Polis</cosponsor>,\n",
      "\t\t\t <cosponsor name-id=\"C001084\">Mr. Cicilline</cosponsor>,\n",
      "\t\t\t <cosponsor name-id=\"P000607\">Mr. Pocan</cosponsor>,\n",
      "\t\t\t <cosponsor name-id=\"S001191\">Ms. Sinema</cosponsor>,\n",
      "\t\t\t <cosponsor name-id=\"S001145\">Ms. Schakowsky</cosponsor>, and\n",
      "\t\t\t <cosponsor name-id=\"H001034\">Mr. Honda</cosponsor>) submitted the following\n",
      "\t\t\t concurrent resolution; which was referred to the\n",
      "\t\t\t <committee-name committee-id=\"HGO00\">Committee on Oversight and Government\n",
      "\t\t\t Reform</committee-name></action-desc>\n",
      "\t\t</action>\n",
      "\t\t<legis-type>CONCURRENT RESOLUTION</legis-type>\n",
      "\t\t<official-title display=\"yes\">Supporting the goals and ideals of No\n",
      "\t\t  Name-Calling Week in bringing attention to name-calling of all kinds and\n",
      "\t\t  providing schools with the tools and inspiration to launch an on-going dialogue\n",
      "\t\t  about ways to eliminate name-calling and bullying in their\n",
      "\t\t  communities.</official-title>\n",
      "\t</form>\n",
      "\t<preamble>\n",
      "\t\t<whereas><text>Whereas No Name-Calling Week is an annual week of\n",
      "\t\t\t educational activities aimed at ending name-calling of all kinds and providing\n",
      "\t\t\t schools with the tools and inspiration to launch an on-going dialogue about\n",
      "\t\t\t ways to eliminate name-calling and bullying in their communities;</text>\n",
      "\t\t</whereas><whereas><text>Whereas 60 organizations, including the National School\n",
      "\t\t\t Boards Association, National Association of Elementary School Principals,\n",
      "\t\t\t National Association of Secondary School Principals, National Education\n",
      "\t\t\t Association, National Association of School Psychologists, Gay, Lesbian and\n",
      "\t\t\t Straight Education Network, and Big Brothers Big Sisters of America, have come\n",
      "\t\t\t together as No Name-Calling Week partner organizations;</text>\n",
      "\t\t</whereas><whereas><text>Whereas thousands of students have participated in No\n",
      "\t\t\t Name-Calling Week since its inception in 2004;</text>\n",
      "\t\t</whereas><whereas><text>Whereas the Gay, Lesbian and Straight Education Network\n",
      "\t\t\t has conducted and released national studies analyzing the pervasive harassment\n",
      "\t\t\t and victimization faced by elementary students and lesbian, gay, bisexual, and\n",
      "\t\t\t transgender (LGBT) secondary students;</text>\n",
      "\t\t</whereas><whereas><text>Whereas 26 percent of elementary students reported hearing\n",
      "\t\t\t others say hurtful things based on another student’s race or ethnic\n",
      "\t\t\t background;</text>\n",
      "\t\t</whereas><whereas><text>Whereas 30 percent of elementary students reported being\n",
      "\t\t\t bullied or called names at some point while in school;</text>\n",
      "\t\t</whereas><whereas><text>Whereas over 70 percent of LGBT middle and high school\n",
      "\t\t\t students frequently hear homophobic remarks and over 80 percent of LGBT middle\n",
      "\t\t\t and high school students were verbally harassed in the past year because of\n",
      "\t\t\t their sexual orientation; and</text>\n",
      "\t\t</whereas><whereas><text>Whereas 55 percent of LGBT middle and high school students\n",
      "\t\t\t experienced harassment via electronic means in the past year: Now, therefore,\n",
      "\t\t\t be it</text>\n",
      "\t\t</whereas></preamble>\n",
      "\t<resolution-body id=\"H4F3AF138CA9E4ABA84571F864B52B33D\" style=\"traditional\">\n",
      "\t\t<section display-inline=\"yes-display-inline\" id=\"H8EF0821428FA42178026B1BA1D153FE8\" section-type=\"undesignated-section\"><enum></enum><text>That Congress—</text>\n",
      "\t\t\t<paragraph id=\"H2DF0302BC09D4FBB8EC82957FC06EB01\"><enum>(1)</enum><text display-inline=\"yes-display-inline\">supports the goals and ideals of No\n",
      "\t\t\t Name-Calling Week; and</text>\n",
      "\t\t\t</paragraph><paragraph id=\"H2654FCE1A9984161831D4B81E3C7E298\"><enum>(2)</enum><text>encourages the\n",
      "\t\t\t people of the United States to observe No Name-Calling Week with appropriate\n",
      "\t\t\t ceremonies, programs, and activities.</text>\n",
      "\t\t\t</paragraph></section></resolution-body>\n",
      "</resolution>\n",
      "\n",
      "\n",
      "\n",
      "Readable Text: 113 HCON 10 IH: Supporting the goals and ideals of No Name-Calling Week in bringing attention to name-calling of all kinds and providing schools with the tools and inspiration to launch an on-going dialogue about ways to eliminate name-calling and bullying in their communities.\n",
      "\n",
      "113th CONGRESS\n",
      "1st Session\n",
      "H. CON. RES. 10\n",
      "\n",
      "IN THE HOUSE OF REPRESENTATIVES\n",
      "\n",
      "20130125\n",
      "\n",
      "Ms. Ros-Lehtinen  (for\n",
      "\t\t\t herself,  Mr. Kind ,\n",
      "\t\t\t  Ms. Speier ,\n",
      "\t\t\t  Mr. Sires ,\n",
      "\t\t\t  Mr. Moran ,\n",
      "\t\t\t  Ms. Norton ,\n",
      "\t\t\t  Mr. Sablan ,\n",
      "\t\t\t  Mr. Polis ,\n",
      "\t\t\t  Mr. Cicilline ,\n",
      "\t\t\t  Mr. Pocan ,\n",
      "\t\t\t  Ms. Sinema ,\n",
      "\t\t\t  Ms. Schakowsky , and\n",
      "\t\t\t  Mr. Honda ) submitted the following\n",
      "\t\t\t concurrent resolution; which was referred to the\n",
      "\t\t\t  Committee on Oversight and Government\n",
      "\t\t\t Reform\n",
      "\n",
      "CONCURRENT RESOLUTION\n",
      "\n",
      "Supporting the goals and ideals of No\n",
      "\t\t  Name-Calling Week in bringing attention to name-calling of all kinds and\n",
      "\t\t  providing schools with the tools and inspiration to launch an on-going dialogue\n",
      "\t\t  about ways to eliminate name-calling and bullying in their\n",
      "\t\t  communities.\n",
      "\n",
      "Preamble:\n",
      "Whereas No Name-Calling Week is an annual week of\n",
      "\t\t\t educational activities aimed at ending name-calling of all kinds and providing\n",
      "\t\t\t schools with the tools and inspiration to launch an on-going dialogue about\n",
      "\t\t\t ways to eliminate name-calling and bullying in their communities; \n",
      "\t\t Whereas 60 organizations, including the National School\n",
      "\t\t\t Boards Association, National Association of Elementary School Principals,\n",
      "\t\t\t National Association of Secondary School Principals, National Education\n",
      "\t\t\t Association, National Association of School Psychologists, Gay, Lesbian and\n",
      "\t\t\t Straight Education Network, and Big Brothers Big Sisters of America, have come\n",
      "\t\t\t together as No Name-Calling Week partner organizations; \n",
      "\t\t Whereas thousands of students have participated in No\n",
      "\t\t\t Name-Calling Week since its inception in 2004; \n",
      "\t\t Whereas the Gay, Lesbian and Straight Education Network\n",
      "\t\t\t has conducted and released national studies analyzing the pervasive harassment\n",
      "\t\t\t and victimization faced by elementary students and lesbian, gay, bisexual, and\n",
      "\t\t\t transgender (LGBT) secondary students; \n",
      "\t\t Whereas 26 percent of elementary students reported hearing\n",
      "\t\t\t others say hurtful things based on another student’s race or ethnic\n",
      "\t\t\t background; \n",
      "\t\t Whereas 30 percent of elementary students reported being\n",
      "\t\t\t bullied or called names at some point while in school; \n",
      "\t\t Whereas over 70 percent of LGBT middle and high school\n",
      "\t\t\t students frequently hear homophobic remarks and over 80 percent of LGBT middle\n",
      "\t\t\t and high school students were verbally harassed in the past year because of\n",
      "\t\t\t their sexual orientation; and \n",
      "\t\t Whereas 55 percent of LGBT middle and high school students\n",
      "\t\t\t experienced harassment via electronic means in the past year: Now, therefore,\n",
      "\t\t\t be it\n",
      "\n",
      "That Congress— \n",
      "\t\t\t (1) supports the goals and ideals of No\n",
      "\t\t\t Name-Calling Week; and \n",
      "\t\t\t (2) encourages the\n",
      "\t\t\t people of the United States to observe No Name-Calling Week with appropriate\n",
      "\t\t\t ceremonies, programs, and activities.\n",
      "------------------------\n",
      "Bill ID: BILLS-113hconres11eh\n",
      "Bill Congress: 113\n",
      "Bill Type: hconres\n",
      "Bill Number: hconres11\n",
      "Last Edited Date: 2023-01-08T17:39:52.041Z\n",
      "XML Content:\n",
      "<?xml version=\"1.0\"?>\n",
      "<?xml-stylesheet type=\"text/xsl\" href=\"billres.xsl\"?>\n",
      "<!DOCTYPE resolution PUBLIC \"-//US Congress//DTDs/res.dtd//EN\" \"res.dtd\">\n",
      "<resolution dms-id=\"H8D0A93D555394E28A8A6FD8D1364862A\" public-private=\"public\" resolution-stage=\"Engrossed-in-House\" resolution-type=\"house-concurrent\" star-print=\"no-star-print\" key=\"H\" stage-count=\"1\"> \n",
      "<metadata xmlns:dc=\"http://purl.org/dc/elements/1.1/\">\n",
      "<dublinCore>\n",
      "<dc:title>113 HCON 11 EH: Providing for a joint session of Congress to receive a message from the President.</dc:title>\n",
      "<dc:publisher>U.S. House of Representatives</dc:publisher>\n",
      "<dc:date></dc:date>\n",
      "<dc:format>text/xml</dc:format>\n",
      "<dc:language>EN</dc:language>\n",
      "<dc:rights>Pursuant to Title 17 Section 105 of the United States Code, this file is not subject to copyright protection and is in the public domain.</dc:rights>\n",
      "</dublinCore>\n",
      "</metadata>\n",
      "<form>\n",
      "<distribution-code display=\"no\">IV</distribution-code> \n",
      "<congress display=\"yes\">113th CONGRESS</congress> \n",
      "<session display=\"yes\">1st Session</session> \n",
      "<legis-num>H. CON. RES. 11</legis-num> \n",
      "<current-chamber display=\"no\">IN THE HOUSE OF REPRESENTATIVES</current-chamber> \n",
      "<legis-type>CONCURRENT RESOLUTION</legis-type> \n",
      "<official-title display=\"no\">Providing for a joint session of Congress to receive a message from the President.</official-title> \n",
      "</form> \n",
      "<resolution-body style=\"traditional\" id=\"HFFECE92115A74FFC8A19BB9921685EA8\"> \n",
      "<section display-inline=\"yes-display-inline\" section-type=\"undesignated-section\" id=\"H1D270F80F45B4B568C5C132C9563C88B\"><text display-inline=\"yes-display-inline\">That the two Houses of Congress assemble in the Hall of the House of Representatives on Tuesday, February 12, 2013, at 9 p.m., for the purpose of receiving such communication as the President of the United States shall be pleased to make to them. </text></section> \n",
      "</resolution-body> \n",
      "<attestation><attestation-group><attestation-date date=\"20130204\" chamber=\"House\">Passed the House of Representatives February 4, 2013.</attestation-date><attestor display=\"no\">Karen L. Haas,</attestor><role>Clerk.</role></attestation-group></attestation>\n",
      "<endorsement display=\"yes\"></endorsement>\n",
      "</resolution> \n",
      "\n",
      "\n",
      "\n",
      "Readable Text: 113 HCON 11 EH: Providing for a joint session of Congress to receive a message from the President.\n",
      "\n",
      "113th CONGRESS\n",
      "1st Session\n",
      "H. CON. RES. 11\n",
      "\n",
      "IN THE HOUSE OF REPRESENTATIVES\n",
      "\n",
      "CONCURRENT RESOLUTION\n",
      "\n",
      "Providing for a joint session of Congress to receive a message from the President.\n",
      "\n",
      "That the two Houses of Congress assemble in the Hall of the House of Representatives on Tuesday, February 12, 2013, at 9 p.m., for the purpose of receiving such communication as the President of the United States shall be pleased to make to them.\n",
      "------------------------\n",
      "Bill ID: BILLS-113hconres11enr\n",
      "Bill Congress: 113\n",
      "Bill Type: hconres\n",
      "Bill Number: hconres11\n",
      "Last Edited Date: 2023-01-06T12:29:01.247Z\n",
      "XML Content:\n",
      "<?xml version=\"1.0\"?>\n",
      "<?xml-stylesheet type=\"text/xsl\" href=\"billres.xsl\"?>\n",
      "<!DOCTYPE resolution PUBLIC \"-//US Congress//DTDs/res.dtd//EN\" \"res.dtd\">\n",
      "<resolution dms-id=\"H8D0A93D555394E28A8A6FD8D1364862A\" public-private=\"public\" resolution-stage=\"Enrolled-Bill\" resolution-type=\"house-concurrent\" star-print=\"no-star-print\" key=\"H\" stage-count=\"1\" public-print=\"no\"> \n",
      "<metadata xmlns:dc=\"http://purl.org/dc/elements/1.1/\">\n",
      "<dublinCore>\n",
      "<dc:title> HCON 11 ENR: Providing for a joint session of Congress to receive a message from the President.</dc:title>\n",
      "<dc:publisher>U.S. House of Representatives</dc:publisher>\n",
      "<dc:date>2013-02-07</dc:date>\n",
      "<dc:format>text/xml</dc:format>\n",
      "<dc:language>EN</dc:language>\n",
      "<dc:rights>Pursuant to Title 17 Section 105 of the United States Code, this file is not subject to copyright protection and is in the public domain.</dc:rights>\n",
      "</dublinCore>\n",
      "</metadata>\n",
      "<form display=\"yes\">\n",
      "<distribution-code display=\"no\">IV</distribution-code> \n",
      "<congress display=\"yes\">One Hundred Thirteenth Congress of the United States of America</congress> \n",
      "<session display=\"yes\">At the First Session</session><enrolled-dateline display=\"yes\">Begun and held at the City of Washington on Thursday, the third day of January, two thousand and thirteen</enrolled-dateline> \n",
      "<legis-num display=\"yes\">H. CON. RES. 11</legis-num> \n",
      "<current-chamber display=\"no\"/> \n",
      "<action display=\"yes\"> \n",
      "<action-date date=\"20130207\" display=\"yes\">February 7, 2013</action-date> \n",
      "<action-desc blank-lines-after=\"0\" display=\"yes\">Agreed to</action-desc> \n",
      "</action> \n",
      "<legis-type display=\"yes\">CONCURRENT RESOLUTION</legis-type> \n",
      "<official-title display=\"no\">Providing for a joint session of Congress to receive a message from the President.</official-title> \n",
      "</form> \n",
      "<resolution-body style=\"traditional\" id=\"HFFECE92115A74FFC8A19BB9921685EA8\" display-resolving-clause=\"yes-display-resolving-clause\"> \n",
      "<section display-inline=\"yes-display-inline\" section-type=\"undesignated-section\" id=\"H1D270F80F45B4B568C5C132C9563C88B\" commented=\"no\"><text display-inline=\"yes-display-inline\">That the two Houses of Congress assemble in the Hall of the House of Representatives on Tuesday, February 12, 2013, at 9 p.m., for the purpose of receiving such communication as the President of the United States shall be pleased to make to them. </text></section> </resolution-body> <attestation><attestation-group><role>Clerk of the House of Representatives.</role></attestation-group><attestation-group><role>Secretary of the Senate.</role></attestation-group></attestation> </resolution>\n",
      "\n",
      "Readable Text: HCON 11 ENR: Providing for a joint session of Congress to receive a message from the President.\n",
      "\n",
      "One Hundred Thirteenth Congress of the United States of America\n",
      "At the First Session\n",
      "H. CON. RES. 11\n",
      "\n",
      "\n",
      "\n",
      "20130207\n",
      "\n",
      "Agreed to\n",
      "\n",
      "CONCURRENT RESOLUTION\n",
      "\n",
      "Providing for a joint session of Congress to receive a message from the President.\n",
      "\n",
      "That the two Houses of Congress assemble in the Hall of the House of Representatives on Tuesday, February 12, 2013, at 9 p.m., for the purpose of receiving such communication as the President of the United States shall be pleased to make to them.\n",
      "------------------------\n",
      "Bill ID: BILLS-113hconres11rds\n",
      "Bill Congress: 113\n",
      "Bill Type: hconres\n",
      "Bill Number: hconres11\n",
      "Last Edited Date: 2023-01-08T17:39:52.090Z\n",
      "XML Content:\n",
      "<?xml version=\"1.0\"?>\n",
      "<?xml-stylesheet type=\"text/xsl\" href=\"billres.xsl\"?>\n",
      "<!DOCTYPE resolution PUBLIC \"-//US Congress//DTDs/res.dtd//EN\" \"res.dtd\">\n",
      "<resolution dms-id=\"H8D0A93D555394E28A8A6FD8D1364862A\" key=\"H\" public-private=\"public\" resolution-stage=\"Received-in-Senate\" resolution-type=\"house-concurrent\" stage-count=\"1\" star-print=\"no-star-print\">\n",
      "\t<metadata xmlns:dc=\"http://purl.org/dc/elements/1.1/\">\n",
      "<dublinCore>\n",
      "<dc:title>113 HCON 11 : Providing for a joint session of Congress to receive a message from the President.</dc:title>\n",
      "<dc:publisher>U.S. House of Representatives</dc:publisher>\n",
      "<dc:date></dc:date>\n",
      "<dc:format>text/xml</dc:format>\n",
      "<dc:language>EN</dc:language>\n",
      "<dc:rights>Pursuant to Title 17 Section 105 of the United States Code, this file is not subject to copyright protection and is in the public domain.</dc:rights>\n",
      "</dublinCore>\n",
      "</metadata>\n",
      "<form>\n",
      "\t\t<distribution-code display=\"yes\">II</distribution-code>\n",
      "\t\t<congress display=\"yes\">113th CONGRESS</congress>\n",
      "\t\t<session display=\"yes\">1st Session</session>\n",
      "\t\t<legis-num>H. CON. RES. 11</legis-num>\n",
      "\t\t<current-chamber display=\"yes\">IN THE SENATE OF THE UNITED\n",
      "\t\t  STATES</current-chamber>\n",
      "\t\t<action>\n",
      "\t\t\t<action-date>February 7, 2013</action-date>\n",
      "\t\t\t<action-desc>Received</action-desc>\n",
      "\t\t</action>\n",
      "\t\t<legis-type>CONCURRENT RESOLUTION</legis-type>\n",
      "\t\t<official-title display=\"yes\">Providing for a joint session of Congress\n",
      "\t\t  to receive a message from the President.</official-title>\n",
      "\t</form>\n",
      "\t<resolution-body id=\"HFFECE92115A74FFC8A19BB9921685EA8\" style=\"traditional\">\n",
      "\t\t<section display-inline=\"yes-display-inline\" id=\"H1D270F80F45B4B568C5C132C9563C88B\" section-type=\"undesignated-section\"><enum></enum><text display-inline=\"yes-display-inline\">That the two Houses of Congress assemble in\n",
      "\t\t\t the Hall of the House of Representatives on Tuesday, February 12, 2013, at 9\n",
      "\t\t\t p.m., for the purpose of receiving <pagebreak></pagebreak>such communication as the\n",
      "\t\t\t President of the United States shall be pleased to make to them.</text>\n",
      "\t\t</section></resolution-body>\n",
      "\t<attestation>\n",
      "\t\t<attestation-group>\n",
      "\t\t\t<attestation-date chamber=\"House\" date=\"20130204\">Passed the House of\n",
      "\t\t\t Representatives February 4, 2013.</attestation-date>\n",
      "\t\t\t<attestor display=\"yes\">Karen L. Haas,</attestor>\n",
      "\t\t\t<role>Clerk</role>\n",
      "\t\t</attestation-group>\n",
      "\t</attestation>\n",
      "</resolution>\n",
      "\n",
      "\n",
      "\n",
      "Readable Text: 113 HCON 11 : Providing for a joint session of Congress to receive a message from the President.\n",
      "\n",
      "113th CONGRESS\n",
      "1st Session\n",
      "H. CON. RES. 11\n",
      "\n",
      "IN THE SENATE OF THE UNITED\n",
      "\t\t  STATES\n",
      "\n",
      "None\n",
      "\n",
      "Received\n",
      "\n",
      "CONCURRENT RESOLUTION\n",
      "\n",
      "Providing for a joint session of Congress\n",
      "\t\t  to receive a message from the President.\n",
      "\n",
      "That the two Houses of Congress assemble in\n",
      "\t\t\t the Hall of the House of Representatives on Tuesday, February 12, 2013, at 9\n",
      "\t\t\t p.m., for the purpose of receiving  such communication as the\n",
      "\t\t\t President of the United States shall be pleased to make to them.\n",
      "------------------------\n",
      "Bill ID: BILLS-113hconres12ih\n",
      "Bill Congress: 113\n",
      "Bill Type: hconres\n",
      "Bill Number: hconres12\n",
      "Last Edited Date: 2023-01-08T17:39:52.155Z\n",
      "XML Content:\n",
      "<?xml version=\"1.0\"?>\n",
      "<?xml-stylesheet type=\"text/xsl\" href=\"billres.xsl\"?>\n",
      "<!DOCTYPE resolution PUBLIC \"-//US Congress//DTDs/res.dtd//EN\" \"res.dtd\">\n",
      "<resolution dms-id=\"H4DFA093F9A064CDD909CADA4A8A8C288\" key=\"H\" public-private=\"public\" resolution-stage=\"Introduced-in-House\" resolution-type=\"house-concurrent\" star-print=\"no-star-print\">\n",
      "\t<metadata xmlns:dc=\"http://purl.org/dc/elements/1.1/\">\n",
      "<dublinCore>\n",
      "<dc:title>113 HCON 12 IH: Honoring and praising the National Association for the Advancement of Colored People on the occasion of its 104th anniversary.</dc:title>\n",
      "<dc:publisher>U.S. House of Representatives</dc:publisher>\n",
      "<dc:date>2013-02-12</dc:date>\n",
      "<dc:format>text/xml</dc:format>\n",
      "<dc:language>EN</dc:language>\n",
      "<dc:rights>Pursuant to Title 17 Section 105 of the United States Code, this file is not subject to copyright protection and is in the public domain.</dc:rights>\n",
      "</dublinCore>\n",
      "</metadata>\n",
      "<form>\n",
      "\t\t<distribution-code display=\"yes\">IV</distribution-code>\n",
      "\t\t<congress display=\"yes\">113th CONGRESS</congress>\n",
      "\t\t<session display=\"yes\">1st Session</session>\n",
      "\t\t<legis-num>H. CON. RES. 12</legis-num>\n",
      "\t\t<current-chamber>IN THE HOUSE OF REPRESENTATIVES</current-chamber>\n",
      "\t\t<action display=\"yes\">\n",
      "\t\t\t<action-date date=\"20130212\">February 12, 2013</action-date>\n",
      "\t\t\t<action-desc><sponsor name-id=\"G000553\">Mr. Al Green of Texas</sponsor>\n",
      "\t\t\t (for himself, <cosponsor name-id=\"B001270\">Ms. Bass</cosponsor>,\n",
      "\t\t\t <cosponsor name-id=\"B001281\">Mrs. Beatty</cosponsor>,\n",
      "\t\t\t <cosponsor name-id=\"B000490\">Mr. Bishop of Georgia</cosponsor>,\n",
      "\t\t\t <cosponsor name-id=\"B000911\">Ms. Brown of Florida</cosponsor>,\n",
      "\t\t\t <cosponsor name-id=\"C001072\">Mr. Carson of Indiana</cosponsor>,\n",
      "\t\t\t <cosponsor name-id=\"C001067\">Ms. Clarke</cosponsor>,\n",
      "\t\t\t <cosponsor name-id=\"C001049\">Mr. Clay</cosponsor>, <cosponsor name-id=\"C001061\">Mr. Cleaver</cosponsor>, <cosponsor name-id=\"C000537\">Mr.\n",
      "\t\t\t Clyburn</cosponsor>, <cosponsor name-id=\"C000714\">Mr. Conyers</cosponsor>,\n",
      "\t\t\t <cosponsor name-id=\"C000984\">Mr. Cummings</cosponsor>,\n",
      "\t\t\t <cosponsor name-id=\"D000096\">Mr. Danny K. Davis of Illinois</cosponsor>,\n",
      "\t\t\t <cosponsor name-id=\"E000290\">Ms. Edwards</cosponsor>,\n",
      "\t\t\t <cosponsor name-id=\"F000455\">Ms. Fudge</cosponsor>,\n",
      "\t\t\t <cosponsor name-id=\"H000324\">Mr. Hastings of Florida</cosponsor>,\n",
      "\t\t\t <cosponsor name-id=\"H000636\">Mr. Hinojosa</cosponsor>,\n",
      "\t\t\t <cosponsor name-id=\"H001034\">Mr. Honda</cosponsor>,\n",
      "\t\t\t <cosponsor name-id=\"J000032\">Ms. Jackson Lee</cosponsor>,\n",
      "\t\t\t <cosponsor name-id=\"J000294\">Mr. Jeffries</cosponsor>,\n",
      "\t\t\t <cosponsor name-id=\"J000126\">Ms. Eddie Bernice Johnson of Texas</cosponsor>,\n",
      "\t\t\t <cosponsor name-id=\"J000288\">Mr. Johnson of Georgia</cosponsor>,\n",
      "\t\t\t <cosponsor name-id=\"L000551\">Ms. Lee of California</cosponsor>,\n",
      "\t\t\t <cosponsor name-id=\"L000287\">Mr. Lewis</cosponsor>,\n",
      "\t\t\t <cosponsor name-id=\"M001137\">Mr. Meeks</cosponsor>,\n",
      "\t\t\t <cosponsor name-id=\"M001160\">Ms. Moore</cosponsor>,\n",
      "\t\t\t <cosponsor name-id=\"N000147\">Ms. Norton</cosponsor>,\n",
      "\t\t\t <cosponsor name-id=\"P000099\">Mr. Pastor of Arizona</cosponsor>,\n",
      "\t\t\t <cosponsor name-id=\"P000604\">Mr. Payne</cosponsor>,\n",
      "\t\t\t <cosponsor name-id=\"R000053\">Mr. Rangel</cosponsor>,\n",
      "\t\t\t <cosponsor name-id=\"R000588\">Mr. Richmond</cosponsor>,\n",
      "\t\t\t <cosponsor name-id=\"R000515\">Mr. Rush</cosponsor>, <cosponsor name-id=\"S001157\">Mr. David Scott of Georgia</cosponsor>,\n",
      "\t\t\t <cosponsor name-id=\"S000185\">Mr. Scott of Virginia</cosponsor>,\n",
      "\t\t\t <cosponsor name-id=\"S001185\">Ms. Sewell of Alabama</cosponsor>,\n",
      "\t\t\t <cosponsor name-id=\"T000193\">Mr. Thompson of Mississippi</cosponsor>,\n",
      "\t\t\t <cosponsor name-id=\"V000131\">Mr. Veasey</cosponsor>,\n",
      "\t\t\t <cosponsor name-id=\"W000187\">Ms. Waters</cosponsor>,\n",
      "\t\t\t <cosponsor name-id=\"W000207\">Mr. Watt</cosponsor>, <cosponsor name-id=\"W000808\">Ms. Wilson of Florida</cosponsor>, and\n",
      "\t\t\t <cosponsor name-id=\"B001251\">Mr. Butterfield</cosponsor>) submitted the\n",
      "\t\t\t following concurrent resolution; which was referred to the\n",
      "\t\t\t <committee-name committee-id=\"HJU00\">Committee on the\n",
      "\t\t\t Judiciary</committee-name></action-desc>\n",
      "\t\t</action>\n",
      "\t\t<legis-type>CONCURRENT RESOLUTION</legis-type>\n",
      "\t\t<official-title display=\"yes\">Honoring and praising the National\n",
      "\t\t  Association for the Advancement of Colored People on the occasion of its 104th\n",
      "\t\t  anniversary.</official-title>\n",
      "\t</form>\n",
      "\t<preamble>\n",
      "\t\t<whereas><text>Whereas the National Association for the Advancement of\n",
      "\t\t\t Colored People (NAACP), originally known as the National Negro Committee, was\n",
      "\t\t\t founded in New York City on February 12, 1909, the centennial of Abraham\n",
      "\t\t\t Lincoln's birth, by a multiracial group of activists who met in a national\n",
      "\t\t\t conference to discuss the civil and political rights of\n",
      "\t\t\t African-Americans;</text>\n",
      "\t\t</whereas><whereas><text>Whereas the NAACP was founded by a distinguished group of\n",
      "\t\t\t leaders in the struggle for civil and political liberty, including Ida\n",
      "\t\t\t Wells-Barnett, W.E.B. DuBois, Henry Moscowitz, Mary White Ovington, Oswald\n",
      "\t\t\t Garrison Villard, and William English Walling;</text>\n",
      "\t\t</whereas><whereas><text>Whereas the NAACP is the oldest and largest civil rights\n",
      "\t\t\t organization in the United States;</text>\n",
      "\t\t</whereas><whereas><text>Whereas the NAACP National Headquarters is located in\n",
      "\t\t\t Baltimore, Maryland;</text>\n",
      "\t\t</whereas><whereas><text>Whereas the mission of the NAACP is to ensure the\n",
      "\t\t\t political, educational, social, and economic equality of rights of all persons\n",
      "\t\t\t and to eliminate racial hatred and racial discrimination;</text>\n",
      "\t\t</whereas><whereas><text>Whereas the NAACP is committed to achieving its goals\n",
      "\t\t\t through nonviolence;</text>\n",
      "\t\t</whereas><whereas><text>Whereas the NAACP advances its mission through reliance\n",
      "\t\t\t upon the press, the petition, the ballot, and the courts, and has been\n",
      "\t\t\t persistent in the use of legal and moral persuasion, even in the face of overt\n",
      "\t\t\t and violent racial hostility;</text>\n",
      "\t\t</whereas><whereas><text>Whereas the NAACP has used political pressure, marches,\n",
      "\t\t\t demonstrations, and effective lobbying to serve as the voice, as well as the\n",
      "\t\t\t shield, for minorities in the United States;</text>\n",
      "\t\t</whereas><whereas><text>Whereas after years of fighting segregation in public\n",
      "\t\t\t schools, the NAACP, under the leadership of Special Counsel Thurgood Marshall,\n",
      "\t\t\t won one of its greatest legal victories in the Supreme Court's decision in\n",
      "\t\t\t Brown v. Board of Education, 347 U.S. 483 (1954);</text>\n",
      "\t\t</whereas><whereas><text>Whereas in 1955, NAACP member Rosa Parks was arrested and\n",
      "\t\t\t fined for refusing to give up her seat on a segregated bus in Montgomery,\n",
      "\t\t\t Alabama, an act of courage that would serve as the catalyst for the largest\n",
      "\t\t\t grassroots civil rights movement in the history of the United States;</text>\n",
      "\t\t</whereas><whereas><text>Whereas the NAACP was prominent in lobbying for the\n",
      "\t\t\t passage of the Civil Rights Acts of 1957, 1960, and 1964, the Voting Rights Act\n",
      "\t\t\t of 1965, the Fannie Lou Hamer, Rosa Parks, Coretta Scott King, César E. Chávez,\n",
      "\t\t\t Barbara C. Jordan, William C. Velásquez, and Dr. Hector P. Garcia Voting Rights\n",
      "\t\t\t Act Reauthorization and Amendments Act of 2006, and the Fair Housing Act, laws\n",
      "\t\t\t that ensured Government protection for legal victories achieved;</text>\n",
      "\t\t</whereas><whereas><text>Whereas in 2005, the NAACP launched the Disaster Relief\n",
      "\t\t\t Fund to help hurricane survivors in Louisiana, Mississippi, Texas, Florida, and\n",
      "\t\t\t Alabama to rebuild their lives;</text>\n",
      "\t\t</whereas><whereas><text>Whereas in the 110th Congress, the NAACP was prominent in\n",
      "\t\t\t lobbying for the passage of H. Res. 826, whose resolved clause expresses that\n",
      "\t\t\t the hanging of nooses is a horrible act when used for the purpose of\n",
      "\t\t\t intimidation and which under certain circumstances can be criminal, this\n",
      "\t\t\t conduct should be investigated thoroughly by Federal authorities, and any\n",
      "\t\t\t criminal violations should be vigorously prosecuted;</text>\n",
      "\t\t</whereas><whereas><text>Whereas in 2008, the NAACP vigorously supported the\n",
      "\t\t\t passage of the Emmett Till Unsolved Civil Rights Crime Act of 2007, a law that\n",
      "\t\t\t puts additional Federal resources into solving the heinous crimes that occurred\n",
      "\t\t\t in the early days of the civil rights struggle that remain unsolved and\n",
      "\t\t\t bringing those who perpetrated such crimes to justice;</text>\n",
      "\t\t</whereas><whereas><text>Whereas the NAACP has helped usher in the new millennium\n",
      "\t\t\t by charting a bold course, beginning with the appointment of the organization’s\n",
      "\t\t\t youngest President and Chief Executive Officer, Benjamin Todd Jealous, and its\n",
      "\t\t\t youngest female Board Chair, Roslyn M. Brock;</text>\n",
      "\t\t</whereas><whereas><text>Whereas under their leadership, the NAACP has outlined a\n",
      "\t\t\t strategic plan to confront 21st century challenges in the critical areas of\n",
      "\t\t\t health, education, housing, criminal justice, and environment;</text>\n",
      "\t\t</whereas><whereas><text>Whereas, on July 16, 2009, the NAACP celebrated its\n",
      "\t\t\t centennial anniversary in New York City, highlighting an extraordinary century\n",
      "\t\t\t of Bold Dreams, Big Victories with a historic address from the first\n",
      "\t\t\t African-American President of the United States, Barack Obama;</text>\n",
      "\t\t</whereas><whereas><text>Whereas as an advocate for sentencing reform, the NAACP\n",
      "\t\t\t applauded the passage of the Fair Sentencing Act of 2010 (<external-xref legal-doc=\"public-law\" parsable-cite=\"pl/111/220\">Public Law 111–220</external-xref>;\n",
      "\t\t\t 124 Stat. 2372), a landmark piece of legislation that reduces the quantity of\n",
      "\t\t\t crack cocaine that triggers a mandatory minimum sentence for a Federal\n",
      "\t\t\t conviction of crack cocaine distribution from 100 times that of people\n",
      "\t\t\t convicted of distributing the drug in powdered form to 18 times that sentence;\n",
      "\t\t\t and</text>\n",
      "\t\t</whereas><whereas><text>Whereas in 2011, the NAACP led the charge to defend the\n",
      "\t\t\t constitutional right to vote and to protect that right for all citizens of the\n",
      "\t\t\t United States, whether they be seniors, young voters, the poor, or from\n",
      "\t\t\t minority communities: Now, therefore, be it</text>\n",
      "\t\t</whereas></preamble>\n",
      "\t<resolution-body id=\"H8D53C13DC5D04A38B39E51D6503C5740\" style=\"traditional\">\n",
      "\t\t<section display-inline=\"yes-display-inline\" id=\"HDC88329461214CF4B5999D34F3E2345C\" section-type=\"undesignated-section\"><enum></enum><text>That Congress—</text>\n",
      "\t\t\t<paragraph id=\"H60C3592E79A04086BA429C50FD008B85\"><enum>(1)</enum><text display-inline=\"yes-display-inline\">recognizes the 104th anniversary of the\n",
      "\t\t\t historic founding of the National Association for the Advancement of Colored\n",
      "\t\t\t People; and</text>\n",
      "\t\t\t</paragraph><paragraph id=\"H8F0A97B4F6F3410CA1D7B45DBE3AECBB\"><enum>(2)</enum><text>honors and praises\n",
      "\t\t\t the National Association for the Advancement of Colored People on the occasion\n",
      "\t\t\t of its anniversary for its work to ensure the political, educational, social,\n",
      "\t\t\t and economic equality of all persons.</text>\n",
      "\t\t\t</paragraph></section></resolution-body>\n",
      "</resolution>\n",
      "\n",
      "\n",
      "\n",
      "Readable Text: 113 HCON 12 IH: Honoring and praising the National Association for the Advancement of Colored People on the occasion of its 104th anniversary.\n",
      "\n",
      "113th CONGRESS\n",
      "1st Session\n",
      "H. CON. RES. 12\n",
      "\n",
      "IN THE HOUSE OF REPRESENTATIVES\n",
      "\n",
      "20130212\n",
      "\n",
      "Mr. Al Green of Texas \n",
      "\t\t\t (for himself,  Ms. Bass ,\n",
      "\t\t\t  Mrs. Beatty ,\n",
      "\t\t\t  Mr. Bishop of Georgia ,\n",
      "\t\t\t  Ms. Brown of Florida ,\n",
      "\t\t\t  Mr. Carson of Indiana ,\n",
      "\t\t\t  Ms. Clarke ,\n",
      "\t\t\t  Mr. Clay ,  Mr. Cleaver ,  Mr.\n",
      "\t\t\t Clyburn ,  Mr. Conyers ,\n",
      "\t\t\t  Mr. Cummings ,\n",
      "\t\t\t  Mr. Danny K. Davis of Illinois ,\n",
      "\t\t\t  Ms. Edwards ,\n",
      "\t\t\t  Ms. Fudge ,\n",
      "\t\t\t  Mr. Hastings of Florida ,\n",
      "\t\t\t  Mr. Hinojosa ,\n",
      "\t\t\t  Mr. Honda ,\n",
      "\t\t\t  Ms. Jackson Lee ,\n",
      "\t\t\t  Mr. Jeffries ,\n",
      "\t\t\t  Ms. Eddie Bernice Johnson of Texas ,\n",
      "\t\t\t  Mr. Johnson of Georgia ,\n",
      "\t\t\t  Ms. Lee of California ,\n",
      "\t\t\t  Mr. Lewis ,\n",
      "\t\t\t  Mr. Meeks ,\n",
      "\t\t\t  Ms. Moore ,\n",
      "\t\t\t  Ms. Norton ,\n",
      "\t\t\t  Mr. Pastor of Arizona ,\n",
      "\t\t\t  Mr. Payne ,\n",
      "\t\t\t  Mr. Rangel ,\n",
      "\t\t\t  Mr. Richmond ,\n",
      "\t\t\t  Mr. Rush ,  Mr. David Scott of Georgia ,\n",
      "\t\t\t  Mr. Scott of Virginia ,\n",
      "\t\t\t  Ms. Sewell of Alabama ,\n",
      "\t\t\t  Mr. Thompson of Mississippi ,\n",
      "\t\t\t  Mr. Veasey ,\n",
      "\t\t\t  Ms. Waters ,\n",
      "\t\t\t  Mr. Watt ,  Ms. Wilson of Florida , and\n",
      "\t\t\t  Mr. Butterfield ) submitted the\n",
      "\t\t\t following concurrent resolution; which was referred to the\n",
      "\t\t\t  Committee on the\n",
      "\t\t\t Judiciary\n",
      "\n",
      "CONCURRENT RESOLUTION\n",
      "\n",
      "Honoring and praising the National\n",
      "\t\t  Association for the Advancement of Colored People on the occasion of its 104th\n",
      "\t\t  anniversary.\n",
      "\n",
      "Preamble:\n",
      "Whereas the National Association for the Advancement of\n",
      "\t\t\t Colored People (NAACP), originally known as the National Negro Committee, was\n",
      "\t\t\t founded in New York City on February 12, 1909, the centennial of Abraham\n",
      "\t\t\t Lincoln's birth, by a multiracial group of activists who met in a national\n",
      "\t\t\t conference to discuss the civil and political rights of\n",
      "\t\t\t African-Americans; \n",
      "\t\t Whereas the NAACP was founded by a distinguished group of\n",
      "\t\t\t leaders in the struggle for civil and political liberty, including Ida\n",
      "\t\t\t Wells-Barnett, W.E.B. DuBois, Henry Moscowitz, Mary White Ovington, Oswald\n",
      "\t\t\t Garrison Villard, and William English Walling; \n",
      "\t\t Whereas the NAACP is the oldest and largest civil rights\n",
      "\t\t\t organization in the United States; \n",
      "\t\t Whereas the NAACP National Headquarters is located in\n",
      "\t\t\t Baltimore, Maryland; \n",
      "\t\t Whereas the mission of the NAACP is to ensure the\n",
      "\t\t\t political, educational, social, and economic equality of rights of all persons\n",
      "\t\t\t and to eliminate racial hatred and racial discrimination; \n",
      "\t\t Whereas the NAACP is committed to achieving its goals\n",
      "\t\t\t through nonviolence; \n",
      "\t\t Whereas the NAACP advances its mission through reliance\n",
      "\t\t\t upon the press, the petition, the ballot, and the courts, and has been\n",
      "\t\t\t persistent in the use of legal and moral persuasion, even in the face of overt\n",
      "\t\t\t and violent racial hostility; \n",
      "\t\t Whereas the NAACP has used political pressure, marches,\n",
      "\t\t\t demonstrations, and effective lobbying to serve as the voice, as well as the\n",
      "\t\t\t shield, for minorities in the United States; \n",
      "\t\t Whereas after years of fighting segregation in public\n",
      "\t\t\t schools, the NAACP, under the leadership of Special Counsel Thurgood Marshall,\n",
      "\t\t\t won one of its greatest legal victories in the Supreme Court's decision in\n",
      "\t\t\t Brown v. Board of Education, 347 U.S. 483 (1954); \n",
      "\t\t Whereas in 1955, NAACP member Rosa Parks was arrested and\n",
      "\t\t\t fined for refusing to give up her seat on a segregated bus in Montgomery,\n",
      "\t\t\t Alabama, an act of courage that would serve as the catalyst for the largest\n",
      "\t\t\t grassroots civil rights movement in the history of the United States; \n",
      "\t\t Whereas the NAACP was prominent in lobbying for the\n",
      "\t\t\t passage of the Civil Rights Acts of 1957, 1960, and 1964, the Voting Rights Act\n",
      "\t\t\t of 1965, the Fannie Lou Hamer, Rosa Parks, Coretta Scott King, César E. Chávez,\n",
      "\t\t\t Barbara C. Jordan, William C. Velásquez, and Dr. Hector P. Garcia Voting Rights\n",
      "\t\t\t Act Reauthorization and Amendments Act of 2006, and the Fair Housing Act, laws\n",
      "\t\t\t that ensured Government protection for legal victories achieved; \n",
      "\t\t Whereas in 2005, the NAACP launched the Disaster Relief\n",
      "\t\t\t Fund to help hurricane survivors in Louisiana, Mississippi, Texas, Florida, and\n",
      "\t\t\t Alabama to rebuild their lives; \n",
      "\t\t Whereas in the 110th Congress, the NAACP was prominent in\n",
      "\t\t\t lobbying for the passage of H. Res. 826, whose resolved clause expresses that\n",
      "\t\t\t the hanging of nooses is a horrible act when used for the purpose of\n",
      "\t\t\t intimidation and which under certain circumstances can be criminal, this\n",
      "\t\t\t conduct should be investigated thoroughly by Federal authorities, and any\n",
      "\t\t\t criminal violations should be vigorously prosecuted; \n",
      "\t\t Whereas in 2008, the NAACP vigorously supported the\n",
      "\t\t\t passage of the Emmett Till Unsolved Civil Rights Crime Act of 2007, a law that\n",
      "\t\t\t puts additional Federal resources into solving the heinous crimes that occurred\n",
      "\t\t\t in the early days of the civil rights struggle that remain unsolved and\n",
      "\t\t\t bringing those who perpetrated such crimes to justice; \n",
      "\t\t Whereas the NAACP has helped usher in the new millennium\n",
      "\t\t\t by charting a bold course, beginning with the appointment of the organization’s\n",
      "\t\t\t youngest President and Chief Executive Officer, Benjamin Todd Jealous, and its\n",
      "\t\t\t youngest female Board Chair, Roslyn M. Brock; \n",
      "\t\t Whereas under their leadership, the NAACP has outlined a\n",
      "\t\t\t strategic plan to confront 21st century challenges in the critical areas of\n",
      "\t\t\t health, education, housing, criminal justice, and environment; \n",
      "\t\t Whereas, on July 16, 2009, the NAACP celebrated its\n",
      "\t\t\t centennial anniversary in New York City, highlighting an extraordinary century\n",
      "\t\t\t of Bold Dreams, Big Victories with a historic address from the first\n",
      "\t\t\t African-American President of the United States, Barack Obama; \n",
      "\t\t Whereas as an advocate for sentencing reform, the NAACP\n",
      "\t\t\t applauded the passage of the Fair Sentencing Act of 2010 ( Public Law 111–220 ;\n",
      "\t\t\t 124 Stat. 2372), a landmark piece of legislation that reduces the quantity of\n",
      "\t\t\t crack cocaine that triggers a mandatory minimum sentence for a Federal\n",
      "\t\t\t conviction of crack cocaine distribution from 100 times that of people\n",
      "\t\t\t convicted of distributing the drug in powdered form to 18 times that sentence;\n",
      "\t\t\t and \n",
      "\t\t Whereas in 2011, the NAACP led the charge to defend the\n",
      "\t\t\t constitutional right to vote and to protect that right for all citizens of the\n",
      "\t\t\t United States, whether they be seniors, young voters, the poor, or from\n",
      "\t\t\t minority communities: Now, therefore, be it\n",
      "\n",
      "That Congress— \n",
      "\t\t\t (1) recognizes the 104th anniversary of the\n",
      "\t\t\t historic founding of the National Association for the Advancement of Colored\n",
      "\t\t\t People; and \n",
      "\t\t\t (2) honors and praises\n",
      "\t\t\t the National Association for the Advancement of Colored People on the occasion\n",
      "\t\t\t of its anniversary for its work to ensure the political, educational, social,\n",
      "\t\t\t and economic equality of all persons.\n",
      "------------------------\n",
      "\n",
      "Total Bill Text Count:\n",
      "Total Bill Text Records: 104817\n",
      "\n",
      "Bill Text Count by Congress:\n",
      "Congress BIL: 104817 bills\n"
     ]
    }
   ],
   "source": [
    "def preview_bill_text_table(db_path):\n",
    "    conn = sqlite3.connect(db_path)\n",
    "    cursor = conn.cursor()\n",
    "\n",
    "    print(\"Bill Text Table Preview:\")\n",
    "    cursor.execute(\"\"\"\n",
    "        SELECT bill_id, bill_congress, bill_number, bill_type, xml_content, last_edited_date, readable_text\n",
    "        FROM bill_text\n",
    "        LIMIT 5\n",
    "    \"\"\")\n",
    "    bill_text_data = cursor.fetchall()\n",
    "    for row in bill_text_data:\n",
    "        print(f\"Bill ID: {row[0]}\")\n",
    "        print(f\"Bill Congress: {row[1]}\")\n",
    "        print(f\"Bill Type: {row[3]}\")\n",
    "        print(f\"Bill Number: {row[2]}\")\n",
    "        print(f\"Last Edited Date: {row[5]}\")\n",
    "        print(f\"XML Content:\\n{row[4]}\")\n",
    "        print(f\"Readable Text: {row[6]}\")\n",
    "        print(\"------------------------\")\n",
    "\n",
    "    print(\"\\nTotal Bill Text Count:\")\n",
    "    cursor.execute(\"SELECT COUNT(*) FROM bill_text\")\n",
    "    total_bill_text = cursor.fetchone()[0]\n",
    "    print(f\"Total Bill Text Records: {total_bill_text}\")\n",
    "\n",
    "    print(\"\\nBill Text Count by Congress:\")\n",
    "    cursor.execute(\"\"\"\n",
    "        SELECT substr(bill_id, 1, 3) as congress, COUNT(*) as count\n",
    "        FROM bill_text\n",
    "        GROUP BY congress\n",
    "    \"\"\")\n",
    "    bill_text_by_congress = cursor.fetchall()\n",
    "    for row in bill_text_by_congress:\n",
    "        print(f\"Congress {row[0]}: {row[1]} bills\")\n",
    "\n",
    "    conn.close()\n",
    "\n",
    "# Usage\n",
    "db_path = \"data/bill_data.db\"\n",
    "preview_bill_text_table(db_path)"
   ]
  }
 ],
 "metadata": {
  "kernelspec": {
   "display_name": "Python 3",
   "language": "python",
   "name": "python3"
  },
  "language_info": {
   "codemirror_mode": {
    "name": "ipython",
    "version": 3
   },
   "file_extension": ".py",
   "mimetype": "text/x-python",
   "name": "python",
   "nbconvert_exporter": "python",
   "pygments_lexer": "ipython3",
   "version": "3.11.8"
  }
 },
 "nbformat": 4,
 "nbformat_minor": 2
}
