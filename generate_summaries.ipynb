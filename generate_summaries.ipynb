{
 "cells": [
  {
   "cell_type": "code",
   "execution_count": 53,
   "metadata": {},
   "outputs": [],
   "source": [
    "from openai import OpenAI\n",
    "import os\n",
    "import pandas as pd\n",
    "import sqlite3\n",
    "from dotenv import load_dotenv\n",
    "from tqdm.notebook import tqdm\n",
    "from groq import Groq\n"
   ]
  },
  {
   "cell_type": "code",
   "execution_count": 60,
   "metadata": {},
   "outputs": [],
   "source": [
    "load_dotenv()\n",
    "\n",
    "db_path = \"data/bill_data.db\"\n",
    "\n",
    "openai_model = \"gpt-3.5-turbo-0125\"\n",
    "max_length = 256\n",
    "\n",
    "openai_client = OpenAI(api_key=os.getenv(\"OPENAI_API_KEY\"))\n",
    "groq_client = Groq(api_key=os.getenv(\"GROQ_API_KEY\"))\n",
    "\n",
    "groq_model=\"mixtral-8x7b-32768\"\n",
    "\n",
    "with open('summarize_prompt.txt', 'r') as file:\n",
    "    prompt_instructions = file.read()"
   ]
  },
  {
   "cell_type": "code",
   "execution_count": 59,
   "metadata": {},
   "outputs": [],
   "source": [
    "def create_prompt(instructions, query):\n",
    "    prompt = [\n",
    "            {\n",
    "                \"role\": \"system\",\n",
    "                \"content\": instructions\n",
    "            },\n",
    "            {\n",
    "                \"role\": \"user\",\n",
    "                \"content\": query\n",
    "            }\n",
    "        ]\n",
    "    return prompt\n",
    "\n",
    "def query_openai(client, instructions, query):\n",
    "    prompt = create_prompt(instructions, query)\n",
    "\n",
    "    response = client.chat.completions.create(\n",
    "        model=openai_model,\n",
    "        messages=prompt,\n",
    "        max_tokens=max_length,\n",
    "    )\n",
    "\n",
    "    return response.choices[0].message.content\n",
    "\n",
    "def query_groq(client, instructions, query):\n",
    "    prompt = create_prompt(instructions, query)\n",
    "\n",
    "    response = client.chat.completions.create(\n",
    "        model=groq_model,\n",
    "        messages=prompt\n",
    "    )\n",
    "\n",
    "    return response.choices[0].message.content"
   ]
  },
  {
   "cell_type": "code",
   "execution_count": 27,
   "metadata": {},
   "outputs": [
    {
     "name": "stdout",
     "output_type": "stream",
     "text": [
      "   bill_congress bill_type bill_number bill_version            policy_area  \\\n",
      "1            113   HCONRES    HCONRES1        3.0.0               Congress   \n",
      "2            113   HCONRES   HCONRES10        3.0.0              Education   \n",
      "5            113   HCONRES  HCONRES100        3.0.0               Congress   \n",
      "7            113   HCONRES  HCONRES101        3.0.0  International Affairs   \n",
      "8            113   HCONRES  HCONRES102        3.0.0                 Health   \n",
      "\n",
      "                                            subjects  \\\n",
      "1          Congressional operations and organization   \n",
      "2  Assault and harassment offenses,Commemorative ...   \n",
      "5  Commemorative events and holidays,Human rights...   \n",
      "7  Asia,Congressional oversight,Detention of pers...   \n",
      "8  Child health,Child safety and welfare,Commemor...   \n",
      "\n",
      "                                       readable_text bill_version_suffix  \n",
      "1  113 HCON 1 EH: Regarding consent to assemble o...                  EH  \n",
      "2  113 HCON 10 IH: Supporting the goals and ideal...                  IH  \n",
      "5  113 HCON 100 IH: Authorizing the use of the ro...                  IH  \n",
      "7  113 HCON 101 IH: Expressing the sense of Congr...                  IH  \n",
      "8  113 HCON 102 IH: Expressing support for design...                  IH  \n"
     ]
    }
   ],
   "source": [
    "def get_bill_data(limit=None):\n",
    "    conn = sqlite3.connect(db_path)\n",
    "    \n",
    "    query = '''\n",
    "        SELECT \n",
    "            b.bill_congress, \n",
    "            b.bill_type, \n",
    "            b.bill_number,\n",
    "            b.bill_version,\n",
    "            b.policy_area,\n",
    "            b.subjects,\n",
    "            bt.readable_text\n",
    "        FROM bills b\n",
    "        LEFT JOIN bill_text bt ON b.bill_congress = bt.bill_congress \n",
    "                               AND b.bill_number = bt.bill_number\n",
    "    '''\n",
    "    \n",
    "    if limit is not None and limit > 0:\n",
    "        query += f'\\nLIMIT {limit}'\n",
    "    \n",
    "    df = pd.read_sql_query(query, conn)\n",
    "    \n",
    "    conn.close()\n",
    "    \n",
    "    # Extract bill version suffixes from the readable_text column\n",
    "    df['bill_version_suffix'] = df['readable_text'].str.extract(r'(\\b\\w+\\b)(?=:)', expand=False)\n",
    "    \n",
    "    # Select the latest version of each bill based on the bill_version_suffix\n",
    "    df = df.loc[df.groupby(['bill_congress', 'bill_type', 'bill_number'])['bill_version_suffix'].idxmax()]\n",
    "    \n",
    "    return df\n",
    "\n",
    "pd.reset_option('display.width')\n",
    "pd.reset_option('display.max_colwidth')\n",
    "bill_df = get_bill_data(limit=10)\n",
    "print(bill_df.head())"
   ]
  },
  {
   "cell_type": "code",
   "execution_count": 61,
   "metadata": {},
   "outputs": [
    {
     "data": {
      "application/vnd.jupyter.widget-view+json": {
       "model_id": "d85e8a18160e49ff8f9e6ecc43639265",
       "version_major": 2,
       "version_minor": 0
      },
      "text/plain": [
       "Generating summaries...:   0%|          | 0/6 [00:00<?, ?it/s]"
      ]
     },
     "metadata": {},
     "output_type": "display_data"
    },
    {
     "name": "stdout",
     "output_type": "stream",
     "text": [
      "   bill_congress bill_type bill_number bill_version            policy_area  \\\n",
      "1            113   HCONRES    HCONRES1        3.0.0               Congress   \n",
      "2            113   HCONRES   HCONRES10        3.0.0              Education   \n",
      "5            113   HCONRES  HCONRES100        3.0.0               Congress   \n",
      "7            113   HCONRES  HCONRES101        3.0.0  International Affairs   \n",
      "8            113   HCONRES  HCONRES102        3.0.0                 Health   \n",
      "\n",
      "                                            subjects  \\\n",
      "1          Congressional operations and organization   \n",
      "2  Assault and harassment offenses,Commemorative ...   \n",
      "5  Commemorative events and holidays,Human rights...   \n",
      "7  Asia,Congressional oversight,Detention of pers...   \n",
      "8  Child health,Child safety and welfare,Commemor...   \n",
      "\n",
      "                                       readable_text bill_version_suffix  \\\n",
      "1  113 HCON 1 EH: Regarding consent to assemble o...                  EH   \n",
      "2  113 HCON 10 IH: Supporting the goals and ideal...                  IH   \n",
      "5  113 HCON 100 IH: Authorizing the use of the ro...                  IH   \n",
      "7  113 HCON 101 IH: Expressing the sense of Congr...                  IH   \n",
      "8  113 HCON 102 IH: Expressing support for design...                  IH   \n",
      "\n",
      "                                       openai_result  \\\n",
      "1  This analysis focuses on H. CON. RES. 1 from t...   \n",
      "2  The concurrent resolution supporting the goals...   \n",
      "5  The concurrent resolution on the table, aimed ...   \n",
      "7  The concurrent resolution H. CON. RES. 101 in ...   \n",
      "8  The main topic and purpose of H. CON. RES. 102...   \n",
      "\n",
      "                                             summary  \n",
      "1  Brief overview of the main topic and purpose:\\...  \n",
      "2  Brief overview of the main topic and purpose:\\...  \n",
      "5  Brief overview of the main topic and purpose:\\...  \n",
      "7  Brief overview of the main topic and purpose:\\...  \n",
      "8  Brief overview of the main topic and purpose:\\...  \n"
     ]
    }
   ],
   "source": [
    "tqdm.pandas(desc=\"Generating summaries...\")\n",
    "bill_df['summary'] = bill_df['readable_text'].progress_apply(lambda x: query_groq(groq_client, prompt_instructions, x))\n",
    "print(bill_df.head())"
   ]
  },
  {
   "cell_type": "code",
   "execution_count": 62,
   "metadata": {},
   "outputs": [
    {
     "name": "stdout",
     "output_type": "stream",
     "text": [
      "1    Brief overview of the main topic and purpose:\\n\\nH. Con. Res. 1, 113th Congress, 1st Session, is a concurrent resolution that outlines the procedures for assembling Members of the House of Representatives and the Senate at a location outside the District of Columbia, should the public interest necessitate it. The resolution invokes clause 4, section 5, article I of the Constitution, which grants the Speaker of the House and the Majority Leader of the Senate (or their designees) the authority to call for such a gathering, following consultation with the respective Minority Leaders.\\n\\nIn-depth analysis of ideological elements:\\n\\n1. Legislative intent: The primary purpose of this resolution is to establish a formal process for assembling Congress outside of Washington D.C., should the need arise. The resolution does not explicitly reveal any particular ideological leanings, as it focuses on procedural matters rather than policy issues. However, the underlying ideology may be inferred from the historical and political context (discussed below).\\n\\n2. Language and framing: The language used in the resolution is formal and unbiased, with no apparent attempts to promote or marginalize specific perspectives. The resolution's focus on procedural matters, rather than policy issues, further contributes to its neutrality.\\n\\n3. Inclusion and omission: The resolution does not emphasize or omit any particular elements, as it is a procedural document rather than a policy-driven one. Its ideological stance, if any, can be inferred from its historical and political context.\\n\\n4. Historical and political context: The resolution's historical context is rooted in the U.S. Constitution, specifically clause 4, section 5, article I. This clause has been invoked sparingly in American history, with the most notable instance being the evacuation of Congress to Baltimore during the War of 1812. The resolution's political context is consistent with the conservative ideology of preserving and protecting the Constitution's original text and ensuring that Congress can function even in times of crisis or upheaval.\\n\\n5. Potential impacts and beneficiaries: The resolution's real-world consequences include providing a formal process for assembling Congress outside of Washington D.C., should the need arise. This process reflects the ideological priority of preserving and protecting the functioning of the legislative branch during times of crisis or upheaval.\\n\\nSummary of essential ideological themes and implications:\\n\\nThe resolution's essential ideological themes revolve around the conservative ideology of preserving and protecting the Constitution's original text and ensuring that Congress can function even in times of crisis or upheaval. The resolution's language, framing, and inclusion of historical context demonstrate a commitment to constitutional principles and the preservation of congressional functions. The potential impacts of the resolution reflect these ideological priorities, emphasizing the importance of maintaining the legislative branch's ability to function and upholding the Constitution's text.\n",
      "2                                                                                                                                                                                                                                                                                                                                                                                                                                                                                                                                                                                                                                                                                                                                                             Brief overview of the main topic and purpose:\\nH. Con. Res. 10, introduced during the 113th Congress, supports the goals and ideals of No Name-Calling Week, an annual event aimed at eliminating name-calling and bullying in schools. The resolution acknowledges the pervasiveness of harassment and name-calling based on race, ethnicity, and sexual orientation, and encourages the public to observe No Name-Calling Week with appropriate ceremonies, programs, and activities.\\n\\nIn-depth analysis of ideological elements:\\n\\nLegislative intent:\\nThe primary purpose of H. Con. Res. 10 is to express support for No Name-Calling Week and its mission to end name-calling and bullying. The resolution emphasizes the importance of fostering inclusive and respectful communities, particularly in schools.\\n\\nLanguage and framing:\\nThe language used in the resolution is inclusive and solution-oriented, focusing on the elimination of name-calling and bullying. The framing of the resolution highlights the negative consequences of name-calling and bullying, particularly for marginalized groups such as LGBT students.\\n\\nInclusion and omission:\\nThe resolution emphasizes the experiences of students who face harassment based on race, ethnicity, and sexual orientation. However, it does not explicitly address other forms of bullying, such as those based on religion, gender, or disability.\\n\\nHistorical and political context:\\nThe resolution aligns with a broader movement in the United States to address bullying and harassment in schools. This movement has gained momentum in recent years, with increased awareness of the negative impacts of bullying on students' mental health and academic performance.\\n\\nPotential impacts and beneficiaries:\\nThe resolution aims to raise awareness of the issue of name-calling and bullying, particularly for marginalized students. By encouraging the observance of No Name-Calling Week, the resolution may contribute to a cultural shift towards more inclusive and respectful communities.\\n\\nSummary of essential ideological themes and implications:\\nH. Con. Res. 10 reflects a commitment to promoting inclusivity, respect, and safety in schools. The resolution emphasizes the importance of addressing name-calling and bullying, particularly for marginalized students, and encourages the public to observe No Name-Calling Week as a step towards fostering more inclusive communities.\n",
      "5                                                                                                                                                             Brief overview of the main topic and purpose:\\n\\nH. Con. Res. 100 is a concurrent resolution that authorizes the use of the rotunda of the Capitol for a ceremony commemorating the 50th anniversary of the Civil Rights Act of 1964. The purpose of the resolution is to honor the landmark legislation and its significant impact on the Civil Rights movement.\\n\\nIn-depth analysis of ideological elements:\\n\\nLegislative intent: The primary purpose of the resolution is to officially recognize and celebrate the 50th anniversary of the Civil Rights Act of 1964, which sought to end discrimination based on race, color, religion, sex, or national origin. The resolution does not explicitly state any additional goals, but it implicitly aims to reaffirm the importance of civil rights and equal protection under the law.\\n\\nLanguage and framing: The language used in the resolution is formal and uncontroversial, focusing on authorizing the use of the Capitol rotunda for a commemorative ceremony. The framing of the Civil Rights Act as a significant milestone in American history is an implicit validation of the broader civil rights movement and its goals.\\n\\nInclusion and omission: The resolution emphasizes the importance of the Civil Rights Act of 1964 and its role in promoting equality. However, it does not explicitly address any contemporary civil rights issues or challenges. The focus on the past can be seen as a way to avoid potential political controversies related to more recent civil rights developments.\\n\\nHistorical and political context: The resolution aligns with longstanding ideological traditions of both major American political parties in supporting equal rights and protection under the law. The Civil Rights Act of 1964 was initially proposed by President John F. Kennedy, a Democrat, and signed into law by President Lyndon B. Johnson, also a Democrat. However, the Act received bipartisan support, reflecting the broad consensus on the importance of civil rights.\\n\\nPotential impacts and beneficiaries: The resolution itself does not have direct real-world consequences, but it serves as a symbolic gesture to honor the Civil Rights Act of 1964 and its impact on American society. The primary beneficiaries of the resolution are those who advocate for civil rights and wish to commemorate the progress made since the Act's enactment.\\n\\nSummary of essential ideological themes and implications:\\n\\nThe resolution primarily emphasizes the historical significance of the Civil Rights Act of 1964 and its role in promoting equality. By focusing on the past, the resolution avoids engaging with more recent civil rights controversies or challenges. The bipartisan support for the resolution reflects the broad consensus on the importance of civil rights and equal protection under the law. Ultimately, the resolution serves as a symbolic tribute to the progress made in civil rights and as an affirmation of the ongoing commitment to equal protection under the law.\n",
      "7                                                                                                                                                                                                                                                                                      Brief overview of the main topic and purpose:\\n\\nH. Con. Res. 101 is a concurrent resolution expressing the sense of Congress that Warren Weinstein, who was abducted in Pakistan in 2011 and is being held captive by al-Qaeda, should be returned home to his family. The resolution calls on the Administration to use all lawful tools at its disposal to secure Weinstein's release and make the return of all United States citizens held captive abroad a top priority.\\n\\nIn-depth analysis of ideological elements:\\n\\nLegislative intent: The primary purpose of this resolution is to emphasize the urgency of securing Weinstein's release and prioritizing the return of all American citizens held captive abroad. The resolution does not explicitly reveal any particular ideological leanings, but it does reflect a commitment to the well-being and safety of American citizens abroad.\\n\\nLanguage and framing: The resolution employs neutral language, focusing on the humanitarian aspect of Weinstein's situation and the Administration's responsibility to protect its citizens. The use of phrases such as \"lawful tools\" and \"top priority\" highlights the importance of adhering to legal procedures while addressing the issue.\\n\\nInclusion and omission: The resolution focuses on the case of Warren Weinstein, emphasizing his contributions to improving the lives of people around the world. While the resolution does not explicitly address other cases of American citizens held captive, it implicitly acknowledges their situations by urging the Administration to prioritize the return of all citizens held captive abroad.\\n\\nHistorical and political context: The resolution aligns with the broader historical and political context of the United States' commitment to protecting its citizens and promoting their well-being, regardless of their location. It also reflects the ongoing efforts of the U.S. government to address the challenges posed by international terrorism and hostage situations.\\n\\nPotential impacts and beneficiaries: The resolution's primary beneficiary is Warren Weinstein and his family, as it calls for the Administration to take action to secure his release. More broadly, the resolution reflects a commitment to all American citizens held captive abroad, emphasizing the importance of their safe return.\\n\\nSummary of essential ideological themes and implications:\\n\\nThe resolution primarily reflects a commitment to the safety and well-being of American citizens abroad, regardless of their circumstances. It emphasizes the importance of adhering to legal procedures while addressing hostage situations and prioritizing the return of all American citizens held captive. The resolution does not reveal any significant ideological leanings but rather underscores the U.S. government's responsibility to protect its citizens and promote their safe return.\n",
      "8                                                                                                                                                                                                                                                                                                                                                                                                                                                                                                                                                                Brief overview of the main topic and purpose:\\nH. Con. Res. 102, or the National ASK Day resolution, expresses support for designating June 21 as National ASK (Asking Saves Kids) Day to promote children's health and gun safety. The resolution emphasizes the importance of parental responsibility in preventing unintentional firearm-related injuries and deaths among children by encouraging parents to ask about the presence of unlocked guns in other homes where their children might visit.\\n\\nIn-depth analysis of ideological elements:\\n\\nLegislative intent:\\nThe primary purpose of the resolution is to raise awareness about gun safety and the importance of parental responsibility in preventing unintentional firearm-related injuries and deaths among children. The resolution subtly promotes stricter gun safety measures and the role of parents in ensuring their children's safety.\\n\\nLanguage and framing:\\nThe language used in the resolution is neutral and focuses on the importance of gun safety and parental responsibility. The text does not explicitly advocate for or against stricter gun control measures but rather encourages parents to take an active role in ensuring their children's safety.\\n\\nInclusion and omission:\\nThe resolution emphasizes the role of parents in preventing unintentional firearm-related injuries and deaths among children. However, it does not address other factors contributing to gun violence, such as mental health or the availability of firearms.\\n\\nHistorical and political context:\\nThe resolution aligns with the ideological traditions of gun safety advocates and organizations promoting stricter gun control measures. It is consistent with the Democratic Party's stance on gun control and the importance of ensuring children's safety.\\n\\nPotential impacts and beneficiaries:\\nThe resolution aims to raise awareness about gun safety and the importance of parental responsibility. The primary beneficiaries of the resolution are children and families who may be affected by unintentional firearm-related injuries and deaths.\\n\\nSummary of essential ideological themes and implications:\\nThe National ASK Day resolution emphasizes the importance of gun safety and parental responsibility in preventing unintentional firearm-related injuries and deaths among children. The resolution aligns with the ideological traditions of gun safety advocates and organizations promoting stricter gun control measures. The resolution's primary focus is on raising awareness about gun safety and encouraging parents to take an active role in ensuring their children's safety.\n",
      "0                                                                                                                                                                                                                                                      Brief overview of the main topic and purpose:\\n\\nH. Con. Res. 1, 113th Congress, 1st Session, is a concurrent resolution that outlines the procedures for assembling Members of Congress at a location outside the District of Columbia if public interest warrants it. The resolution derives from clause 4, section 5, article I of the Constitution, which grants the authority to jointly call a meeting of Congress to the Speaker of the House, the Majority Leader of the Senate, and their respective designates. The Minority Leaders of the House and the Senate are also consulted in this process.\\n\\nIn-depth analysis of ideological elements:\\n\\nLegislative intent: The primary purpose of this resolution is to establish a formal process for assembling Congress outside of Washington D.C. in response to public interest. The resolution does not explicitly state any particular ideological goals, but it does emphasize the importance of joint decision-making between majority and minority party leaders, reflecting a commitment to bipartisanship and consensus-building.\\n\\nLanguage and framing: The language used in the resolution is formal and neutral, with no apparent biases or marginalized perspectives. The text focuses on specifying the conditions and procedures for assembling Congress outside of Washington D.C., without promoting or opposing any particular ideological perspectives.\\n\\nInclusion and omission: The resolution does not emphasize or omit any specific elements, as its primary purpose is to outline a procedural mechanism for assembling Congress outside of Washington D.C. It does not address any particular policy issues or ideological priorities.\\n\\nHistorical and political context: The resolution aligns with the U.S. Constitution's provisions for joint decision-making between the House and Senate and reflects the long-standing tradition of bipartisan cooperation in Congress. It also highlights the importance of accommodating public interest, demonstrating a commitment to responsiveness and accountability.\\n\\nPotential impacts and beneficiaries: The resolution's primary impact is to establish a formal process for assembling Congress outside of Washington D.C. in response to public interest. This mechanism could potentially benefit citizens and communities outside of the District of Columbia by enabling Congress to address their concerns more directly and effectively.\\n\\nSummary of essential ideological themes and implications:\\n\\nH. Con. Res. 1, 113th Congress, 1st Session, primarily focuses on procedural aspects of assembling Congress outside of Washington D.C. Its essential ideological themes include bipartisanship, consensus-building, responsiveness, and accountability. These themes are integrated into the bill through the requirement for joint decision-making between majority and minority party leaders and the emphasis on accommodating public interest.\n",
      "Name: summary, dtype: object\n"
     ]
    }
   ],
   "source": [
    "pd.set_option('display.max_colwidth', None)\n",
    "print(bill_df['summary'])\n",
    "pd.reset_option('display.max_colwidth')"
   ]
  },
  {
   "cell_type": "code",
   "execution_count": null,
   "metadata": {},
   "outputs": [],
   "source": []
  }
 ],
 "metadata": {
  "kernelspec": {
   "display_name": "Python 3",
   "language": "python",
   "name": "python3"
  },
  "language_info": {
   "codemirror_mode": {
    "name": "ipython",
    "version": 3
   },
   "file_extension": ".py",
   "mimetype": "text/x-python",
   "name": "python",
   "nbconvert_exporter": "python",
   "pygments_lexer": "ipython3",
   "version": "3.11.8"
  }
 },
 "nbformat": 4,
 "nbformat_minor": 2
}
